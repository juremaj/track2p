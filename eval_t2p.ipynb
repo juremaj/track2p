{
 "cells": [
  {
   "cell_type": "markdown",
   "metadata": {},
   "source": [
    "# Notebook for t2p evaluation\n",
    "\n",
    "### Under development..."
   ]
  },
  {
   "cell_type": "code",
   "execution_count": null,
   "metadata": {},
   "outputs": [],
   "source": [
    "# imports\n",
    "import os\n",
    "from types import SimpleNamespace\n",
    "\n",
    "import numpy as np\n",
    "import matplotlib.pyplot as plt\n",
    "\n",
    "from scipy.stats import zscore\n"
   ]
  },
  {
   "cell_type": "code",
   "execution_count": null,
   "metadata": {},
   "outputs": [],
   "source": [
    "# this is the directory that contains a /track2p folder that is output by running the track2p algorithm\n",
    "t2p_save_path = '/Users/jure/Documents/cossart_lab/data/jm/jm038/' # (change this based on your data)\n",
    "plane = 'plane0' # which plane to process (the example dataset is single-plane)"
   ]
  },
  {
   "cell_type": "code",
   "execution_count": null,
   "metadata": {},
   "outputs": [],
   "source": [
    "# np.load() the match matrix (plane0_match_mat.npy)\n",
    "t2p_match_mat = np.load(os.path.join(t2p_save_path, 'track2p', f'{plane}_match_mat.npy'), allow_pickle=True)\n",
    "\n",
    "# np.load() settings (this contains suite2p paths etc.) (track_ops.npy)\n",
    "track_ops_dict = np.load(os.path.join(t2p_save_path, 'track2p', 'track_ops.npy'), allow_pickle=True).item()\n",
    "track_ops = SimpleNamespace(**track_ops_dict) # create dummy object from the track_ops dictionary"
   ]
  },
  {
   "cell_type": "code",
   "execution_count": null,
   "metadata": {},
   "outputs": [],
   "source": [
    "print('Datasets used for t2p:\\n')\n",
    "for ds_path in track_ops.all_ds_path:\n",
    "    print(ds_path)"
   ]
  },
  {
   "cell_type": "markdown",
   "metadata": {},
   "source": [
    "### Above is the output of the algorithm, now generate ground truth "
   ]
  },
  {
   "cell_type": "code",
   "execution_count": null,
   "metadata": {},
   "outputs": [],
   "source": [
    "# load the suite2p output of the first dataset\n",
    "s2p_path = os.path.join(track_ops.all_ds_path[0], 'suite2p', plane)\n",
    "\n",
    "# load the ops and stat\n",
    "ops_first = np.load(os.path.join(s2p_path, 'ops.npy'), allow_pickle=True).item()\n",
    "stat_first = np.load(os.path.join(s2p_path, 'stat.npy'), allow_pickle=True)\n",
    "iscell_first = np.load(os.path.join(s2p_path, 'iscell.npy'), allow_pickle=True)\n",
    "s2p_inds = np.arange(len(stat_first))\n",
    "\n",
    "# filter stat based on the track2p probability\n",
    "print('Filtering stat based on the track2p probability')\n",
    "s2p_inds_iscell = s2p_inds[iscell_first[:, 0] > track_ops.iscell_thr]\n",
    "stat_first_iscell = stat_first[iscell_first[:, 0] > track_ops.iscell_thr]\n",
    "print(f'Filtered stat from {len(stat_first)} to {len(stat_first_iscell)} cells')"
   ]
  },
  {
   "cell_type": "code",
   "execution_count": null,
   "metadata": {},
   "outputs": [],
   "source": [
    "# now plot the fov with contours\n",
    "plt.figure(figsize=(10, 10))\n",
    "plt.imshow(ops_first['meanImg'], cmap='gray')\n",
    "for i in range(len(stat_first_iscell)):\n",
    "    # get random color \n",
    "    color = np.random.rand(3)\n",
    "    plt.scatter(stat_first_iscell[i]['xpix'], stat_first_iscell[i]['ypix'], s=1, color=color, alpha=0.5)"
   ]
  },
  {
   "cell_type": "code",
   "execution_count": null,
   "metadata": {},
   "outputs": [],
   "source": [
    "# now make a 8x8 grid on the image\n",
    "n_grid = 4\n",
    "grid_x = np.arange(0, ops_first['meanImg'].shape[1], ops_first['meanImg'].shape[1] // n_grid)\n",
    "grid_y = np.arange(0, ops_first['meanImg'].shape[0], ops_first['meanImg'].shape[0] // n_grid)\n",
    "\n",
    "plt.imshow(ops_first['meanImg'], cmap='gray')\n",
    "for i in range(n_grid):\n",
    "    plt.axvline(grid_x[i], color='r')\n",
    "    plt.axhline(grid_y[i], color='r')\n",
    "\n",
    "plt.axis('off')"
   ]
  },
  {
   "cell_type": "code",
   "execution_count": null,
   "metadata": {},
   "outputs": [],
   "source": [
    "# now for each grid cross get the nearest cell (except for 0 and 512 pixels)\n",
    "all_cell_med = []\n",
    "\n",
    "# get all cell medians from stat\n",
    "for i in range(len(stat_first_iscell)):\n",
    "    all_cell_med.append(stat_first_iscell[i]['med'])\n",
    "    \n"
   ]
  },
  {
   "cell_type": "code",
   "execution_count": null,
   "metadata": {},
   "outputs": [],
   "source": [
    "# compute coordinates of the grid crosses\n",
    "grid_crosses = []\n",
    "for i in range(1, n_grid):\n",
    "    for j in range(1, n_grid):\n",
    "        grid_crosses.append((grid_x[i], grid_y[j]))"
   ]
  },
  {
   "cell_type": "code",
   "execution_count": null,
   "metadata": {},
   "outputs": [],
   "source": [
    "grid_crosses"
   ]
  },
  {
   "cell_type": "code",
   "execution_count": null,
   "metadata": {},
   "outputs": [],
   "source": [
    "plt.imshow(ops_first['meanImg'], cmap='gray')\n",
    "for i in range(n_grid):\n",
    "    plt.axvline(grid_x[i], color='gray')\n",
    "    plt.axhline(grid_y[i], color='gray')\n",
    "for cross in grid_crosses:\n",
    "    plt.scatter(cross[0], cross[1], s=20, color='r')\n",
    "\n",
    "plt.axis('off')\n"
   ]
  },
  {
   "cell_type": "code",
   "execution_count": null,
   "metadata": {},
   "outputs": [],
   "source": [
    "# compute distances between each cell and each grid cross\n",
    "distances = np.zeros((len(stat_first_iscell), len(grid_crosses)))\n",
    "for i, cell_med in enumerate(all_cell_med):\n",
    "    for j, cross in enumerate(grid_crosses):\n",
    "        distances[i, j] = np.sqrt((cell_med[0] - cross[0])**2 + (cell_med[1] - cross[1])**2)"
   ]
  },
  {
   "cell_type": "code",
   "execution_count": null,
   "metadata": {},
   "outputs": [],
   "source": [
    "# now get the nearest cell for each grid cross\n",
    "nearest_cells = np.argmin(distances, axis=0)\n"
   ]
  },
  {
   "cell_type": "code",
   "execution_count": null,
   "metadata": {},
   "outputs": [],
   "source": [
    "nearest_cells"
   ]
  },
  {
   "cell_type": "code",
   "execution_count": null,
   "metadata": {},
   "outputs": [],
   "source": [
    "plt.imshow(ops_first['meanImg'], cmap='gray')\n",
    "\n",
    "for cross in grid_crosses:\n",
    "    plt.scatter(cross[0], cross[1], s=20, color='C0')\n",
    "\n",
    "plt.axis('off')\n",
    "\n",
    "for i, cell in enumerate(nearest_cells):\n",
    "    roi = np.zeros_like(ops_first['meanImg'])\n",
    "    roi[stat_first_iscell[cell]['ypix'], stat_first_iscell[cell]['xpix']] = 1\n",
    "    plt.contour(roi, levels=[0.5], colors='C1')\n"
   ]
  },
  {
   "cell_type": "code",
   "execution_count": null,
   "metadata": {},
   "outputs": [],
   "source": [
    "# now get the original indices\n",
    "original_indices = s2p_inds_iscell[nearest_cells]\n",
    "print('Now open suite2p and try to manually track cells:')\n",
    "[print(f'{original_indices[i]}') for i in range(len(original_indices))];"
   ]
  },
  {
   "cell_type": "code",
   "execution_count": null,
   "metadata": {},
   "outputs": [],
   "source": [
    "# make the same plot as above but with numbers labeled next to the roi\n",
    "plt.figure(figsize=(10, 10))\n",
    "# clip based on 99.99 percentile\n",
    "img = ops_first['meanImg'].copy()\n",
    "img[img > np.percentile(img, 99.99)] = np.percentile(img, 99.99)\n",
    "plt.imshow(img, cmap='gray')\n",
    "\n",
    "for i, cell in enumerate(nearest_cells):\n",
    "    roi = np.zeros_like(ops_first['meanImg'])\n",
    "    roi[stat_first_iscell[cell]['ypix'], stat_first_iscell[cell]['xpix']] = 1\n",
    "    plt.contour(roi, levels=[0.5], colors='C1')\n",
    "    plt.text(stat_first_iscell[cell]['med'][1]+10, stat_first_iscell[cell]['med'][0]-10, f'{original_indices[i]}', color='C1')\n",
    "    plt.scatter(grid_crosses[i][0], grid_crosses[i][1], s=20, color='C0', marker='x')\n",
    "\n",
    "plt.axis('off')\n"
   ]
  },
  {
   "cell_type": "code",
   "execution_count": null,
   "metadata": {},
   "outputs": [],
   "source": []
  },
  {
   "cell_type": "code",
   "execution_count": null,
   "metadata": {},
   "outputs": [],
   "source": []
  }
 ],
 "metadata": {
  "kernelspec": {
   "display_name": "track2p",
   "language": "python",
   "name": "python3"
  },
  "language_info": {
   "codemirror_mode": {
    "name": "ipython",
    "version": 3
   },
   "file_extension": ".py",
   "mimetype": "text/x-python",
   "name": "python",
   "nbconvert_exporter": "python",
   "pygments_lexer": "ipython3",
   "version": "3.9.19"
  }
 },
 "nbformat": 4,
 "nbformat_minor": 2
}
