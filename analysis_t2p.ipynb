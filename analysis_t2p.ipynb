{
 "cells": [
  {
   "cell_type": "markdown",
   "metadata": {},
   "source": [
    "# Analysing output of t2p\n",
    "This is a short script we will use as a demo on how to use the outputs of t2p for longitudinal analysis, but for now it is a practice notebook for Manon :)"
   ]
  },
  {
   "cell_type": "markdown",
   "metadata": {},
   "source": [
    "The example here is for a 1 plane recording with simultaneous videography (given dataset is jm032). Track2p should be run on days (including) 19.10.2023 - 23.10.2023.\n",
    "\n",
    "### Task description:\n",
    "\n",
    "We want to know:\n",
    "- Are there neurons in our recordings that are correlated with movement\n",
    "- If yes, how stable is this correlation (are the same neurons correlated with movement on different days?, this can only be done with matched cells)\n",
    "- Is this the case for all ages? If not when does this correlation arise?"
   ]
  },
  {
   "cell_type": "code",
   "execution_count": null,
   "metadata": {},
   "outputs": [],
   "source": [
    "# imports\n",
    "import numpy as np\n",
    "import matplotlib.pyplot as plt\n",
    "import os"
   ]
  },
  {
   "cell_type": "markdown",
   "metadata": {},
   "source": [
    "### Step by step guide (more detailed explanations below):\n",
    "\n",
    "Each point from this list matches one section of this notebook\n",
    "\n",
    "1) Load the output of track2p\n",
    "2) Find cells that are present in all recordings ('matched cells')\n",
    "3) \n",
    "4) Load the activity of the matched cells and visualise it\n",
    "5) Load the 'movement' data \n",
    "6) Study the correlation of neural and movement data"
   ]
  },
  {
   "cell_type": "markdown",
   "metadata": {},
   "source": [
    "### 1) Load the output of track2p\n",
    "The simplest way to do this is to load the `.npy` file: `t2p_output_path/track2p/plane#_match_mat.npy`. In this example it is simple because we only have one plane."
   ]
  },
  {
   "cell_type": "code",
   "execution_count": null,
   "metadata": {},
   "outputs": [],
   "source": [
    "# first load the t2p ops\n",
    "t2p_save_path = # ... add your code ..."
   ]
  },
  {
   "cell_type": "code",
   "execution_count": null,
   "metadata": {},
   "outputs": [],
   "source": [
    "# use np.load()\n",
    "t2p_match_mat = # ... add your code ..."
   ]
  },
  {
   "cell_type": "code",
   "execution_count": null,
   "metadata": {},
   "outputs": [],
   "source": [
    "# what is the shape of this matrix?\n",
    "# what do you think the rows and columns represent?\n",
    "print(t2p_match_mat.shape)"
   ]
  },
  {
   "cell_type": "markdown",
   "metadata": {},
   "source": [
    "### 2) Find cells that are present in all recordings ('matched cells')\n",
    "\n"
   ]
  },
  {
   "cell_type": "markdown",
   "metadata": {},
   "source": [
    "Now from this matrix get the matches that are present on all days (Hint: use the information below from the README)\n",
    "\n",
    "- A matrix (`plane#_match_mat.npy`) containing the indices of matched neurons across the session for a given plane (`#` is the index of the plane). Since matching is done from first day to last, some neurons will not be sucessfully tracked after one or a few days. In this case the matrix contains `None` values. To get neurons tracked across all days only take the rows of the matrices containing no `None` values. "
   ]
  },
  {
   "cell_type": "code",
   "execution_count": null,
   "metadata": {},
   "outputs": [],
   "source": [
    "# get the rows that do not contain any Nones\n",
    "t2p_match_mat_allday = # ... add your code ..."
   ]
  },
  {
   "cell_type": "code",
   "execution_count": null,
   "metadata": {},
   "outputs": [],
   "source": [
    "# what is the shape of this new matrix? (this is the number of cells that were successfully matched across all days)\n",
    "print(t2p_match_mat_allday.shape)"
   ]
  },
  {
   "cell_type": "markdown",
   "metadata": {},
   "source": [
    "### 3) Load the data from one example dataset and visualise it\n",
    "\n",
    "\n",
    "Hint: A nice way to implement this is to take the data saved in track_ops.npy file (for example to access the paths of the datasets used for t2p, see example below)"
   ]
  },
  {
   "cell_type": "code",
   "execution_count": null,
   "metadata": {},
   "outputs": [],
   "source": [
    "track_ops = #... add your code ..."
   ]
  },
  {
   "cell_type": "code",
   "execution_count": null,
   "metadata": {},
   "outputs": [],
   "source": [
    "# to show which datasets were used when t2p was run\n",
    "print('Datasets used for t2p:\\n')\n",
    "for ds_path in track_ops.all_ds_path:\n",
    "    print(ds_path)"
   ]
  },
  {
   "cell_type": "markdown",
   "metadata": {},
   "source": [
    "For this part it is important to know a bit about how the suite2p structures the outputs: https://suite2p.readthedocs.io/en/latest/outputs.html (the important things will be the `ops.npy`, `stat.npy`, `iscell.npy` and the `F.npy`)\n",
    "As an exercise you can first do it for a single dataset."
   ]
  },
  {
   "cell_type": "code",
   "execution_count": null,
   "metadata": {},
   "outputs": [],
   "source": [
    "# lets take the last dataset\n",
    "last_ds_path = track_ops.all_ds_path[-1]\n",
    "print(f'We will look at the dataset saved at: {last_ds_path}')"
   ]
  },
  {
   "cell_type": "code",
   "execution_count": null,
   "metadata": {},
   "outputs": [],
   "source": [
    "# load the three files\n",
    "last_ops = # ... add your code ...\n",
    "last_stat = # ... add your code ...\n",
    "last_f = # ... add your code ...\n",
    "iscell = # ... add your code ..."
   ]
  },
  {
   "cell_type": "code",
   "execution_count": null,
   "metadata": {},
   "outputs": [],
   "source": [
    "# now first plot the mean image of the movie (it is saved in ops.npy, for more infor see the suite2p outputs documentation)\n",
    "mean_img = # ... add your code ...\n"
   ]
  },
  {
   "cell_type": "code",
   "execution_count": null,
   "metadata": {},
   "outputs": [],
   "source": [
    "# next scatter the location of the first n cells onto the average image (use the stat.npy file, and plot the median coordinates for each cell) start with first 10 cells, then try more (you can also try to show all)\n",
    "# Hint: Be careful about getting the x and y coordinates correct (images use a different convention than sccatter), you can verify you did it correctly if the scatter points are on top of the cells\n",
    "n = 10\n",
    "\n",
    "# plot mean image as above\n",
    "# ... add your code ...\n",
    "\n",
    "\n",
    "#scatter the first n cells\n",
    "# ... add your code ...\n"
   ]
  },
  {
   "cell_type": "code",
   "execution_count": null,
   "metadata": {},
   "outputs": [],
   "source": [
    "# if you plot all entries from stat you can see that there are a lot of things detected (too many to be cells), so we need to filter them out\n",
    "# luckily suite2p tells us how confident it is that something is a cell in the iscell.npy file (see the suite2p outputs documentation for more info)\n",
    "\n",
    "# lets use the same confidence that we used when we ran track2p\n",
    "iscell_thr = track_ops.iscell_thr\n",
    "print(f'The iscell threshold used was: {iscell_thr}')"
   ]
  },
  {
   "cell_type": "code",
   "execution_count": null,
   "metadata": {},
   "outputs": [],
   "source": [
    "# now use the iscell.npy file to filter out the cells that are not confident enough (use the second column of the iscell.npy file)\n",
    "stat_iscell = # ... add your code ..."
   ]
  },
  {
   "cell_type": "code",
   "execution_count": null,
   "metadata": {},
   "outputs": [],
   "source": [
    "print(f'Got {stat_iscell.shape[0]} (/{last_stat.shape[0]}) cells using the iscell threshold')"
   ]
  },
  {
   "cell_type": "code",
   "execution_count": null,
   "metadata": {},
   "outputs": [],
   "source": [
    "# now plot the median coordinates of the cells that are confident enough\n",
    "# Hint: you can use the same code as above, but use the new stat_iscell instead of stat and loop through all elements\n",
    "n = stat_iscell.shape[0]\n",
    "\n",
    "# ... add your code ...\n"
   ]
  },
  {
   "cell_type": "code",
   "execution_count": null,
   "metadata": {},
   "outputs": [],
   "source": [
    "# good! now we can move on to looking at the activity of the cells. First plot the activity of the first cell as a time-series (use the F.npy file, the cells here are matched to the cells in stat.npy)\n",
    "print(f'len of stat: {len(last_stat)}')\n",
    "print(f'shape of F: {last_f.shape}')\n"
   ]
  },
  {
   "cell_type": "code",
   "execution_count": null,
   "metadata": {},
   "outputs": [],
   "source": [
    "# you can see that the rows of F are the cells and the columns are the frames of the movie\n",
    "# lets plot the first cell (hint: use a wide figure)\n",
    "plt.figure(figsize=(10, 1))\n",
    "i = 0\n",
    "\n",
    "# plot the time series below\n",
    "\n",
    "# ... add your code ...\n"
   ]
  },
  {
   "cell_type": "markdown",
   "metadata": {},
   "source": [
    "Now lets plot the activity of all cells as a 'raster plot'.\n",
    "A raster plot is just a heatmap of the F matrix. By convention we use black as the cell being activated (high value) and white as the cell not being activated (low value).\n",
    "For visualisation purposes we also normalize each row by z-scoring (you can try with or without to see the difference). \n",
    "\n",
    "Hint: Set the vmin to 0 and vmax to 1.96 in the imshow to see the activity better.\n",
    "\n",
    "For example of how a raster should look, see figure G or H [here](https://www.science.org/cms/10.1126/science.aav7893/asset/1f184dca-7c86-432c-8d81-b4529619480d/assets/graphic/364_aav7893_f1.jpeg)."
   ]
  },
  {
   "cell_type": "code",
   "execution_count": null,
   "metadata": {},
   "outputs": [],
   "source": [
    "from scipy.stats import zscore"
   ]
  },
  {
   "cell_type": "code",
   "execution_count": null,
   "metadata": {},
   "outputs": [],
   "source": [
    "# also filter by the iscell threshold\n",
    "last_f_iscell = # ... add your code ..."
   ]
  },
  {
   "cell_type": "code",
   "execution_count": null,
   "metadata": {},
   "outputs": [],
   "source": [
    "# (hint: use the imported zscore function from scipy.stats) being careful which axis you zscore over\n",
    "last_f_iscell_zscore = # ... add your code ..."
   ]
  },
  {
   "cell_type": "code",
   "execution_count": null,
   "metadata": {},
   "outputs": [],
   "source": [
    "# check that row 0 is now zscored (mean should be 0 and std should be 1)\n",
    "row_std = np.std(last_f_iscell_zscore[0, :])\n",
    "row_mean = np.mean(last_f_iscell_zscore[0, :])\n",
    "print(f'row 0 std: {row_std}')\n",
    "print(f'row 0 mean: {row_mean}')"
   ]
  },
  {
   "cell_type": "code",
   "execution_count": null,
   "metadata": {},
   "outputs": [],
   "source": [
    "# now plot the raster using last_f_iscell_zscore (make sure to follow instructions above, colormap, vmin, vmax, etc.)\n",
    "\n",
    "# ... add your code ...\n"
   ]
  },
  {
   "cell_type": "markdown",
   "metadata": {},
   "source": [
    "Extra task: People often plot the mean activity of all cells for each timepoint as a subplot below a raster. Implement this as an extra task."
   ]
  },
  {
   "cell_type": "code",
   "execution_count": null,
   "metadata": {},
   "outputs": [],
   "source": [
    "\n",
    "# ... add your code ...\n"
   ]
  },
  {
   "cell_type": "markdown",
   "metadata": {},
   "source": [
    "## 4) Load the activity of the matched cells and visualise it\n",
    "\n",
    "Now that we know how to look at data in one recording we will use the optput from track2p to look at activity of the same cells across all datasets."
   ]
  },
  {
   "cell_type": "code",
   "execution_count": null,
   "metadata": {},
   "outputs": [],
   "source": []
  }
 ],
 "metadata": {
  "kernelspec": {
   "display_name": "track2p",
   "language": "python",
   "name": "python3"
  },
  "language_info": {
   "codemirror_mode": {
    "name": "ipython",
    "version": 3
   },
   "file_extension": ".py",
   "mimetype": "text/x-python",
   "name": "python",
   "nbconvert_exporter": "python",
   "pygments_lexer": "ipython3",
   "version": "3.9.18"
  }
 },
 "nbformat": 4,
 "nbformat_minor": 2
}
