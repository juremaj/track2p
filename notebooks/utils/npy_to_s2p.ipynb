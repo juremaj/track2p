{
 "cells": [
  {
   "cell_type": "markdown",
   "id": "f0538be5",
   "metadata": {},
   "source": [
    "# Conversion of npy to s2p "
   ]
  },
  {
   "cell_type": "code",
   "execution_count": null,
   "id": "4e3cd55a",
   "metadata": {},
   "outputs": [],
   "source": [
    "import os\n",
    "import numpy as np\n",
    "import matplotlib.pyplot as plt"
   ]
  },
  {
   "cell_type": "code",
   "execution_count": null,
   "id": "bed3a691",
   "metadata": {},
   "outputs": [],
   "source": [
    "path = '/Users/jure/Documents/cossart_lab/data/jm/jm039_npy/2024-04-30_a/data_npy'"
   ]
  },
  {
   "cell_type": "code",
   "execution_count": null,
   "id": "6ab62d00",
   "metadata": {},
   "outputs": [],
   "source": [
    "F = np.load(os.path.join(path, 'F.npy'))\n",
    "fov = np.load(os.path.join(path, 'fov.npy'))\n",
    "rois = np.load(os.path.join(path, 'rois.npy'))"
   ]
  },
  {
   "cell_type": "code",
   "execution_count": null,
   "id": "cdde0a3f",
   "metadata": {},
   "outputs": [],
   "source": [
    "plt.plot(F[0, :])\n",
    "plt.show()\n",
    "\n",
    "plt.imshow(F)\n",
    "plt.show()\n",
    "\n",
    "plt.imshow(fov)\n",
    "plt.show()\n",
    "\n",
    "plt.imshow(rois[0, :, :])\n",
    "plt.show()\n",
    "\n",
    "plt.imshow(rois[1, :, :])\n",
    "plt.show()"
   ]
  },
  {
   "cell_type": "code",
   "execution_count": null,
   "id": "c9c13434",
   "metadata": {},
   "outputs": [],
   "source": []
  },
  {
   "cell_type": "code",
   "execution_count": null,
   "id": "9563eb37",
   "metadata": {},
   "outputs": [],
   "source": []
  }
 ],
 "metadata": {
  "kernelspec": {
   "display_name": "track2p",
   "language": "python",
   "name": "python3"
  },
  "language_info": {
   "codemirror_mode": {
    "name": "ipython",
    "version": 3
   },
   "file_extension": ".py",
   "mimetype": "text/x-python",
   "name": "python",
   "nbconvert_exporter": "python",
   "pygments_lexer": "ipython3",
   "version": "3.9.21"
  }
 },
 "nbformat": 4,
 "nbformat_minor": 5
}
