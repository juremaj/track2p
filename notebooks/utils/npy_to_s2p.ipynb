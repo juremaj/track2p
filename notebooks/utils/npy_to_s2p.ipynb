{
 "cells": [
  {
   "cell_type": "markdown",
   "id": "f0538be5",
   "metadata": {},
   "source": [
    "# Conversion of npy to s2p \n",
    "\n",
    "This is used to implement and test the feature suggested by reviewer 2 - allowing easier use of track2p by people using pipelines other than suite2p\n",
    "\n",
    "Inputs:\n",
    "- rois.npy (bool ndarray of shape: (n_roi, n_px_y, n_px_x))\n",
    "- fov.npy (float32 ndarray of shape: (n_px_y, n_px_x))            - IMPORTANT: ROIs and FOV must be aligned (this is done by default in suite2p outputs, but might need to be registered manually in other cases)\n",
    "- traces.npy (float32 ndarray of shape: (n_roi, n_tstamps))\n",
    "\n",
    "Outputs:\n",
    "- suite2p folder"
   ]
  },
  {
   "cell_type": "code",
   "execution_count": null,
   "id": "4e3cd55a",
   "metadata": {},
   "outputs": [],
   "source": [
    "import os\n",
    "import numpy as np\n",
    "import matplotlib.pyplot as plt"
   ]
  },
  {
   "cell_type": "code",
   "execution_count": null,
   "id": "b008c170",
   "metadata": {},
   "outputs": [],
   "source": [
    "nplanes = 1\n",
    "plane = 0"
   ]
  },
  {
   "cell_type": "code",
   "execution_count": null,
   "id": "bed3a691",
   "metadata": {},
   "outputs": [],
   "source": [
    "# these are the paths to the datasets that will be used to \n",
    "subject_npy_path = '/Users/jure/Documents/cossart_lab/data/jm/jm039_npy/'\n",
    "# npy_paths are all the subfolders of subject_path ending in _a\n",
    "npy_paths = [os.path.join(f.path, 'data_npy', f'plane{plane}') for f in os.scandir(subject_npy_path) if f.is_dir() and f.name.endswith('_a')]\n",
    "npy_paths.sort()\n",
    "print(npy_paths)\n",
    "\n",
    "\n",
    "s2p_paths = []\n",
    "for npy_path in npy_paths:\n",
    "    print(npy_path)\n",
    "    # remove _npy\n",
    "    s2p_path = npy_path.replace('jm039_npy', 'jm039')\n",
    "    s2p_path = s2p_path.replace('data_npy', 'suite2p')\n",
    "    s2p_paths.append(s2p_path)"
   ]
  },
  {
   "cell_type": "code",
   "execution_count": null,
   "id": "6ab62d00",
   "metadata": {},
   "outputs": [],
   "source": [
    "path = npy_paths[0]  # Example path, you can loop through npy_paths if needed\n",
    "\n"
   ]
  },
  {
   "cell_type": "code",
   "execution_count": null,
   "id": "c9c13434",
   "metadata": {},
   "outputs": [],
   "source": [
    "for (npy_path, s2p_path) in zip(npy_paths, s2p_paths):\n",
    "    print(s2p_path)\n",
    "    \n",
    "    F = np.load(os.path.join(npy_path, 'F.npy'))\n",
    "    fov = np.load(os.path.join(npy_path, 'fov.npy'))\n",
    "    rois = np.load(os.path.join(npy_path, 'rois.npy'))\n",
    "\n",
    "\n",
    "\n",
    "    if not os.path.exists(s2p_path):\n",
    "        os.makedirs(s2p_path)\n",
    "    else:\n",
    "        print(f\"Directory {s2p_path} already exists, skipping... (Delete or rename it if you want to overwrite)\")\n",
    "        continue\n",
    "    \n",
    "    np.save(os.path.join(s2p_path, 'F.npy'), F)\n",
    "\n",
    "    ops = {'meanImg': fov}\n",
    "    ops['nchannels'] = 1  # Assuming single channel\n",
    "    ops['fs'] = 30  # Assuming a sampling frequency of 30 Hz\n",
    "    ops['nframes'] = F.shape[1]\n",
    "    np.save(os.path.join(s2p_path, 'ops.npy'), ops)\n",
    "\n",
    "    # stat is a list of dictionaries, each with keys 'xpix', 'ypix'\n",
    "    stat = []\n",
    "    for i in range(rois.shape[0]):\n",
    "        # TODO: make sure using the correct axis convention!!!\n",
    "        ypix, xpix = np.where(rois[i] > 0)\n",
    "        med = [int(np.median(ypix).item()), int(np.median(xpix).item())]\n",
    "        stat.append({'xpix': xpix, 'ypix': ypix, 'med': med})\n",
    "\n",
    "    np.save(os.path.join(s2p_path, 'stat.npy'), stat)\n",
    "            \n",
    "    # iscell is two columns of 1 the columns are length n_cells\n",
    "    n_cells = len(stat)\n",
    "    iscell = np.ones((n_cells, 2), dtype=int)\n",
    "    np.save(os.path.join(s2p_path, 'iscell.npy'), iscell)\n",
    "    print(f\"Saved to {s2p_path}\")\n"
   ]
  },
  {
   "cell_type": "code",
   "execution_count": null,
   "id": "9563eb37",
   "metadata": {},
   "outputs": [],
   "source": [
    "med = [int(np.median(ypix).item()), int(np.median(xpix).item())]\n",
    "\n",
    "med"
   ]
  },
  {
   "cell_type": "code",
   "execution_count": null,
   "id": "aebc8434",
   "metadata": {},
   "outputs": [],
   "source": []
  }
 ],
 "metadata": {
  "kernelspec": {
   "display_name": "track2p",
   "language": "python",
   "name": "python3"
  },
  "language_info": {
   "codemirror_mode": {
    "name": "ipython",
    "version": 3
   },
   "file_extension": ".py",
   "mimetype": "text/x-python",
   "name": "python",
   "nbconvert_exporter": "python",
   "pygments_lexer": "ipython3",
   "version": "3.9.21"
  }
 },
 "nbformat": 4,
 "nbformat_minor": 5
}
