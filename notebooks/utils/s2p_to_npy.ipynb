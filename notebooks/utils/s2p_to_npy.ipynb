{
 "cells": [
  {
   "cell_type": "markdown",
   "id": "192b95be",
   "metadata": {},
   "source": [
    "# Conversion of s2p to npy\n",
    "\n",
    "This is used to implement and test the feature suggested by reviewer 2 - allowing easier use of track2p by people using pipelines other than suite2p\n",
    "\n",
    "Inputs:\n",
    "- suite2p folder\n",
    "\n",
    "Outputs:\n",
    "- rois.npy (bool ndarray of shape: (n_roi, n_px_y, n_px_x))\n",
    "- fov.npy (float32 ndarray of shape: (n_px_y, n_px_x))            - IMPORTANT: ROIs and FOV must be aligned (this is done by default in suite2p outputs, but might need to be registered manually in other cases)\n",
    "- traces.npy (float32 ndarray of shape: (n_roi, n_tstamps))\n"
   ]
  },
  {
   "cell_type": "code",
   "execution_count": null,
   "id": "1e4cb8a3",
   "metadata": {},
   "outputs": [],
   "source": [
    "import os\n",
    "import numpy as np\n",
    "import matplotlib.pyplot as plt"
   ]
  },
  {
   "cell_type": "code",
   "execution_count": null,
   "id": "5c6c7926",
   "metadata": {},
   "outputs": [],
   "source": [
    "# these are the paths to the datasets that will be used to \n",
    "subject_s2p_path = '/Volumes/data_jm_share/data_proc/jm/jm039/'\n",
    "# s2p_paths are all the subfolders of subject_path ending in _a\n",
    "s2p_paths = [f.path for f in os.scandir(subject_s2p_path) if f.is_dir() and f.name.endswith('_a')]\n",
    "s2p_paths.sort()\n",
    "print(s2p_paths)\n",
    "\n",
    "# \n",
    "npy_paths = []\n",
    "for s2p_path in s2p_paths:\n",
    "    \n",
    "    # add _npy after jm039 to the path\n",
    "    npy_path = s2p_path.replace('jm039', 'jm039_npy')\n",
    "    # make this directory if it does not exist\n",
    "\n",
    "    if not os.path.exists(npy_path):\n",
    "        os.makedirs(npy_path)\n",
    "\n",
    "    npy_paths.append(npy_path)"
   ]
  },
  {
   "cell_type": "code",
   "execution_count": null,
   "id": "f8811710",
   "metadata": {},
   "outputs": [],
   "source": [
    "# now write code to load the s2p data and saves it to npy\n",
    "plane = 0\n",
    "\n",
    "for s2p_path, npy_path in zip(s2p_paths, npy_paths):\n",
    "    print(f'Loading {s2p_path} and saving to {npy_path}')\n",
    "\n",
    "    s2p_path_full = os.path.join(s2p_path, 'suite2p', f'plane{plane}')\n",
    "\n",
    "    ops = np.load(os.path.join(s2p_path_full, 'ops.npy'), allow_pickle=True).item()\n",
    "    stat = np.load(os.path.join(s2p_path_full, 'stat.npy'), allow_pickle=True)\n",
    "    iscell = np.load(os.path.join(s2p_path_full, 'iscell.npy'), allow_pickle=True)\n",
    "    F = np.load(os.path.join(s2p_path_full, 'F.npy'), allow_pickle=True)\n",
    "\n",
    "    iscell_bool = iscell[:, 0] == 1\n",
    "    print(sum(iscell_bool), 'cells in this dataset')\n",
    "\n",
    "    # get mean image\n",
    "    mean_img = ops['meanImg']\n",
    "    print('Mean image shape:', mean_img.shape)\n",
    "    print(type(mean_img[0,0]))\n",
    "    plt.imshow(mean_img, cmap='gray')\n",
    "    plt.show()\n",
    "\n",
    "    # now filter stat and F by iscell_bool\n",
    "    stat = stat[iscell_bool]\n",
    "    F = F[iscell_bool, :]\n",
    "    print('Stat shape:', stat.shape)\n",
    "    print('F shape:', F.shape)\n",
    "    print(type(F[0, 0]))\n",
    "\n",
    "    rois = np.zeros((len(stat), mean_img.shape[0], mean_img.shape[1]), dtype=np.bool)\n",
    "    for i, s in enumerate(stat):\n",
    "        # create a mask for the roi\n",
    "        mask = np.zeros((mean_img.shape[0], mean_img.shape[1]), dtype=np.bool)\n",
    "        mask[s['ypix'], s['xpix']] = True\n",
    "        rois[i] = mask\n",
    "    print('ROIs shape:', rois.shape)\n",
    "    print(type(rois[0, 0, 0]))\n",
    "\n",
    "    plt.imshow(rois[0], cmap='gray')\n",
    "    plt.show()\n",
    "    plt.imshow(rois[1], cmap='gray')\n",
    "    plt.show()\n",
    "\n",
    "    # save to npy\n",
    "    np.save(os.path.join(npy_path, 'rois.npy'), rois)\n",
    "    np.save(os.path.join(npy_path, 'F.npy'), F)\n",
    "    np.save(os.path.join(npy_path, 'fov.npy'), mean_img)\n",
    "\n",
    "    # TODO: save these to npy files ...\n"
   ]
  },
  {
   "cell_type": "markdown",
   "id": "211c1aac",
   "metadata": {},
   "source": []
  },
  {
   "cell_type": "markdown",
   "id": "f5ff8c6d",
   "metadata": {},
   "source": []
  }
 ],
 "metadata": {
  "kernelspec": {
   "display_name": "track2p",
   "language": "python",
   "name": "python3"
  },
  "language_info": {
   "codemirror_mode": {
    "name": "ipython",
    "version": 3
   },
   "file_extension": ".py",
   "mimetype": "text/x-python",
   "name": "python",
   "nbconvert_exporter": "python",
   "pygments_lexer": "ipython3",
   "version": "3.9.21"
  }
 },
 "nbformat": 4,
 "nbformat_minor": 5
}
