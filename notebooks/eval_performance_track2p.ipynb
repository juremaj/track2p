{
 "cells": [
  {
   "cell_type": "markdown",
   "metadata": {},
   "source": [
    "## Loading track2p results "
   ]
  },
  {
   "cell_type": "code",
   "execution_count": null,
   "metadata": {},
   "outputs": [],
   "source": [
    "# imports\n",
    "import os\n",
    "from types import SimpleNamespace\n",
    "import matplotlib.pyplot as plt\n",
    "import pandas as pd\n",
    "import csv\n",
    "import matplotlib.colors as mcolors\n",
    "import numpy as np"
   ]
  },
  {
   "cell_type": "code",
   "execution_count": null,
   "metadata": {},
   "outputs": [],
   "source": [
    "t2p_save_path = '/Volumes/data_jm_share/data_proc/jm/jm046/chan1'  # (change this based on your data)\n",
    "save_path='/Volumes/data_jm_share/data_proc/jm/jm046'\n",
    "plane = 'plane0' # which plane to process (the example dataset is single-plane)"
   ]
  },
  {
   "cell_type": "code",
   "execution_count": null,
   "metadata": {},
   "outputs": [],
   "source": [
    "# np.load() the match matrix (plane0_match_mat.npy)\n",
    "t2p_match_mat = np.load(os.path.join(t2p_save_path,'track2p', f'{plane}_match_mat.npy'), allow_pickle=True)\n",
    "\n",
    "# np.load() settings (this contains suite2p paths etc.) (track_ops.npy)\n",
    "track_ops_dict = np.load(os.path.join(t2p_save_path, 'track2p', 'track_ops.npy'), allow_pickle=True).item()\n",
    "track_ops = SimpleNamespace(**track_ops_dict) # create dummy object from the track_ops dictionary\n",
    "\n",
    "print(t2p_save_path)\n",
    "print(track_ops.save_path)\n",
    "print(track_ops.reg_chan)\n",
    "print(track_ops.transform_type)\n",
    "print(t2p_match_mat.shape)\n",
    "print(t2p_match_mat)"
   ]
  },
  {
   "cell_type": "code",
   "execution_count": null,
   "metadata": {},
   "outputs": [],
   "source": [
    "t2p_match_mat_notnone = t2p_match_mat != None #bolean matrix\n",
    "print(t2p_match_mat_notnone)\n",
    "plt.figure(figsize=(20, 1), dpi=500)\n",
    "plt.imshow(t2p_match_mat_notnone.T, aspect='auto', vmin=0, vmax=1)\n"
   ]
  },
  {
   "cell_type": "code",
   "execution_count": null,
   "metadata": {},
   "outputs": [],
   "source": [
    "print('Datasets used for t2p:\\n')\n",
    "for ds_path in track_ops.all_ds_path:\n",
    "    iscell=np.load(os.path.join(ds_path,'suite2p', 'plane0','iscell.npy'))\n",
    "    iscell = iscell[iscell[:, 0] > track_ops.iscell_thr]\n",
    "    print(len(iscell))\n"
   ]
  },
  {
   "cell_type": "markdown",
   "metadata": {},
   "source": [
    "## Above is the output of the algorithm, now generate ground truth\n",
    "### Generate grid"
   ]
  },
  {
   "cell_type": "code",
   "execution_count": null,
   "metadata": {},
   "outputs": [],
   "source": [
    "# load the suite2p output of the first dataset\n",
    "s2p_path = os.path.join(track_ops.all_ds_path[0], 'suite2p', plane)\n",
    "print(track_ops.all_ds_path)\n",
    "\n",
    "# load the ops and stat\n",
    "ops_first = np.load(os.path.join(s2p_path, 'ops.npy'), allow_pickle=True).item()\n",
    "stat_first = np.load(os.path.join(s2p_path, 'stat.npy'), allow_pickle=True)\n",
    "iscell_first = np.load(os.path.join(s2p_path, 'iscell.npy'), allow_pickle=True)\n",
    "s2p_inds = np.arange(len(stat_first))\n",
    "\n",
    "# filter stat based on the track2p probability\n",
    "print(f'Filtering stat based on the track2p probability (iscell_thr={track_ops.iscell_thr})')\n",
    "s2p_inds_iscell = s2p_inds[iscell_first[:, 0] > track_ops.iscell_thr]\n",
    "stat_first_iscell = stat_first[iscell_first[:, 0] > track_ops.iscell_thr]\n",
    "print(f'Filtered stat from {len(stat_first)} to {len(stat_first_iscell)} cells')\n",
    "\n"
   ]
  },
  {
   "cell_type": "code",
   "execution_count": null,
   "metadata": {},
   "outputs": [],
   "source": [
    "# now plot the fov with contours\n",
    "plt.figure(figsize=(10, 10))\n",
    "plt.imshow(ops_first['meanImg'], cmap='gray')\n",
    "for i in range(len(stat_first_iscell)):\n",
    "    # get random color \n",
    "    color = np.random.rand(3)\n",
    "    plt.scatter(stat_first_iscell[i]['xpix'], stat_first_iscell[i]['ypix'], s=1, color=color, alpha=0.5)"
   ]
  },
  {
   "cell_type": "code",
   "execution_count": null,
   "metadata": {},
   "outputs": [],
   "source": [
    "# now make a 8x8 grid on the image\n",
    "n_grid = 9\n",
    "grid_x = np.arange(0, ops_first['meanImg'].shape[1], ops_first['meanImg'].shape[1] // n_grid)\n",
    "grid_y = np.arange(0, ops_first['meanImg'].shape[0], ops_first['meanImg'].shape[0] // n_grid)\n",
    "\n",
    "plt.imshow(ops_first['meanImg'], cmap='gray')\n",
    "for i in range(n_grid):\n",
    "    plt.axvline(grid_x[i], color='r')\n",
    "    plt.axhline(grid_y[i], color='r')\n",
    "\n",
    "plt.axis('off')"
   ]
  },
  {
   "cell_type": "code",
   "execution_count": null,
   "metadata": {},
   "outputs": [],
   "source": [
    "# now for each grid cross get the nearest cell (except for 0 and 512 pixels)\n",
    "all_cell_med = []\n",
    "\n",
    "# get all cell medians from stat\n",
    "for i in range(len(stat_first_iscell)):\n",
    "    all_cell_med.append(stat_first_iscell[i]['med'])\n",
    "    "
   ]
  },
  {
   "cell_type": "code",
   "execution_count": null,
   "metadata": {},
   "outputs": [],
   "source": [
    "# compute coordinates of the grid crosses\n",
    "grid_crosses = []\n",
    "for i in range(1, n_grid):\n",
    "    for j in range(1, n_grid):\n",
    "        grid_crosses.append((grid_x[i], grid_y[j]))"
   ]
  },
  {
   "cell_type": "code",
   "execution_count": null,
   "metadata": {},
   "outputs": [],
   "source": [
    "grid_crosses"
   ]
  },
  {
   "cell_type": "code",
   "execution_count": null,
   "metadata": {},
   "outputs": [],
   "source": [
    "plt.imshow(ops_first['meanImg'], cmap='gray')\n",
    "for i in range(n_grid):\n",
    "    plt.axvline(grid_x[i], color='gray')\n",
    "    plt.axhline(grid_y[i], color='gray')\n",
    "for cross in grid_crosses:\n",
    "    plt.scatter(cross[0], cross[1], s=20, color='r')\n",
    "\n",
    "plt.axis('off')\n"
   ]
  },
  {
   "cell_type": "code",
   "execution_count": null,
   "metadata": {},
   "outputs": [],
   "source": [
    "# compute distances between each cell and each grid cross\n",
    "distances = np.zeros((len(stat_first_iscell), len(grid_crosses)))\n",
    "for i, cell_med in enumerate(all_cell_med):\n",
    "    for j, cross in enumerate(grid_crosses):\n",
    "        distances[i, j] = np.sqrt((cell_med[0] - cross[0])**2 + (cell_med[1] - cross[1])**2)"
   ]
  },
  {
   "cell_type": "code",
   "execution_count": null,
   "metadata": {},
   "outputs": [],
   "source": [
    "# now get the nearest cell for each grid cross\n",
    "nearest_cells = np.argmin(distances, axis=0)"
   ]
  },
  {
   "cell_type": "code",
   "execution_count": null,
   "metadata": {},
   "outputs": [],
   "source": [
    "nearest_cells"
   ]
  },
  {
   "cell_type": "code",
   "execution_count": null,
   "metadata": {},
   "outputs": [],
   "source": [
    "plt.imshow(ops_first['meanImg'], cmap='gray')\n",
    "\n",
    "for cross in grid_crosses:\n",
    "    plt.scatter(cross[0], cross[1], s=20, color='C0')\n",
    "\n",
    "plt.axis('off')\n",
    "\n",
    "for i, cell in enumerate(nearest_cells):\n",
    "    roi = np.zeros_like(ops_first['meanImg'])\n",
    "    roi[stat_first_iscell[cell]['ypix'], stat_first_iscell[cell]['xpix']] = 1\n",
    "    plt.contour(roi, levels=[0.5], colors='C1')"
   ]
  },
  {
   "cell_type": "code",
   "execution_count": null,
   "metadata": {},
   "outputs": [],
   "source": [
    "# now get the original indices\n",
    "original_indices = s2p_inds_iscell[nearest_cells]\n",
    "print('Now open suite2p and try to manually track cells:')\n",
    "[print(f'{original_indices[i]}') for i in range(len(original_indices))]"
   ]
  },
  {
   "cell_type": "code",
   "execution_count": null,
   "metadata": {},
   "outputs": [],
   "source": [
    "# make the same plot as above but with numbers labeled next to the roi\n",
    "plt.figure(figsize=(10, 10))\n",
    "# clip based on 99.99 percentile\n",
    "img = ops_first['meanImg'].copy()\n",
    "img[img > np.percentile(img, 99.99)] = np.percentile(img, 99.99)\n",
    "plt.imshow(img, cmap='gray')\n",
    "\n",
    "for i, cell in enumerate(nearest_cells):\n",
    "    roi = np.zeros_like(ops_first['meanImg'])\n",
    "    roi[stat_first_iscell[cell]['ypix'], stat_first_iscell[cell]['xpix']] = 1\n",
    "    plt.contour(roi, levels=[0.5], colors='C1')\n",
    "    plt.text(stat_first_iscell[cell]['med'][1]+10, stat_first_iscell[cell]['med'][0]-10, f'{original_indices[i]}', color='C1')\n",
    "    plt.scatter(grid_crosses[i][0], grid_crosses[i][1], s=20, color='C0', marker='x')\n",
    "\n",
    "plt.axis('off')"
   ]
  },
  {
   "cell_type": "code",
   "execution_count": null,
   "metadata": {},
   "outputs": [],
   "source": [
    "np.sort(original_indices)"
   ]
  },
  {
   "cell_type": "markdown",
   "metadata": {},
   "source": [
    "### Getting real suite2p indexes to compare it to"
   ]
  },
  {
   "cell_type": "code",
   "execution_count": null,
   "metadata": {},
   "outputs": [],
   "source": [
    "def function(path, plane):\n",
    "\n",
    "    track_ops_dict = np.load(os.path.join(path, \"track2p\", \"track_ops.npy\"), allow_pickle=True).item()\n",
    "    track_ops = SimpleNamespace(**track_ops_dict)\n",
    "    t2p_match_mat = np.load(os.path.join(path,\"track2p\" ,f\"{plane}_match_mat.npy\"), allow_pickle=True)\n",
    "    #t2p_match_mat_allday = t2p_match_mat\n",
    "    \n",
    "    if track_ops.iscell_thr is not None:\n",
    "        true_indices= np.empty((len(t2p_match_mat), len(track_ops.all_ds_path)), dtype=object)\n",
    "        \n",
    "    for j in range(len(t2p_match_mat)):\n",
    "        for (i, ds_path) in enumerate(track_ops.all_ds_path):\n",
    "            iscell = np.load(os.path.join(ds_path, 'suite2p', plane, 'iscell.npy'), allow_pickle=True)\n",
    "            if track_ops.iscell_thr is not None:\n",
    "                s2p_indexes= np.where(iscell[:,1]>track_ops.iscell_thr)[0]\n",
    "                t2p_index=t2p_match_mat[j,i]\n",
    "\n",
    "                if t2p_index is None:\n",
    "                    true_index = None\n",
    "                else:\n",
    "                    true_index=s2p_indexes[t2p_index]\n",
    "\n",
    "                true_indices[j, i] = true_index\n",
    "            else:\n",
    "                pass\n",
    "    if track_ops.iscell_thr is not None:        \n",
    "        np.save(os.path.join(path, \"true_indices.npy\"), true_indices)\n",
    "        print(\"saved\")\n",
    "    else:\n",
    "        print(\"not in locals\")\n",
    "        \n",
    "function(t2p_save_path, plane)  \n",
    "\n",
    "indices_npy= np.load(os.path.join(t2p_save_path,\"true_indices.npy\"), allow_pickle=True)\n",
    "print(indices_npy)\n",
    "print(indices_npy.shape)\n",
    "\n",
    "#indices_npy (index of the cell in the suite2p output)"
   ]
  },
  {
   "cell_type": "code",
   "execution_count": null,
   "metadata": {},
   "outputs": [],
   "source": [
    "# index rows for cells where the first row is in original_indices\n",
    "all_s2p_idxs = []\n",
    "for idx in np.sort(original_indices):\n",
    "    idx_row = np.where(indices_npy[:,0]==idx)\n",
    "    print(idx_row)\n",
    "\n",
    "    if len(idx_row[0]) == 0:\n",
    "        s2p_idxs = [None]*len(track_ops.all_ds_path)\n",
    "        #print('here')\n",
    "\n",
    "    else:\n",
    "        s2p_idxs = indices_npy[idx_row]\n",
    "    all_s2p_idxs.append(s2p_idxs[0])\n",
    "\n",
    "all_s2p_idxs = np.array(all_s2p_idxs)\n",
    "\n",
    "#print(all_s2p_idxs.dtype)\n",
    "print(f'all_s2p_idxs {all_s2p_idxs}')"
   ]
  },
  {
   "cell_type": "markdown",
   "metadata": {},
   "source": [
    "### Loading and processing cellreg outputs"
   ]
  },
  {
   "cell_type": "code",
   "execution_count": null,
   "metadata": {},
   "outputs": [],
   "source": [
    "# Create .mat files for cellreg from suite2p outputs\n",
    "\n",
    "import numpy as np\n",
    "import os\n",
    "from scipy.io import savemat\n",
    "import os\n",
    "import numpy as np\n",
    "import matplotlib.colors as mcolors\n",
    "import random\n",
    "from types import SimpleNamespace\n",
    "\n",
    "for (i, ds_path) in enumerate(track_ops.all_ds_path):\n",
    "    stat = np.load(os.path.join(ds_path, 'suite2p', f'plane{plane}' ,'stat.npy'), allow_pickle=True)\n",
    "    iscell = np.load(os.path.join(ds_path, 'suite2p', f'plane{plane}', 'iscell.npy'), allow_pickle=True)\n",
    "    ops = np.load(os.path.join(ds_path, 'suite2p', f'plane{plane}', 'ops.npy'), allow_pickle=True).item()\n",
    "\n",
    "\n",
    "    Ly, Lx = int(ops['Ly']), int(ops['Lx'])\n",
    "\n",
    "\n",
    "    N = int(np.sum(iscell[:, 0]))\n",
    "\n",
    "    footprints = np.zeros((N, Ly, Lx))\n",
    "\n",
    "\n",
    "    neuron_idx = 0\n",
    "    for i, s in enumerate(stat):\n",
    "        if iscell[i, 0]: \n",
    "            footprints[neuron_idx, s['ypix'], s['xpix']] = s['lam']\n",
    "            neuron_idx += 1\n",
    "\n",
    "\n",
    "    print(f\"Footprints shape: {footprints.shape}\")\n",
    "\n",
    "    footprints_part1 = footprints[:N//2]\n",
    "    footprints_part2 = footprints[N//2:]\n",
    "\n",
    "\n",
    "    savemat(os.path.join(ds_path,\"footprints_part1.mat\"), \n",
    "        {'footprints_part1': footprints_part1})\n",
    "\n",
    "    savemat(os.path.join(ds_path,\"footprints_part2.Mat\"), \n",
    "        {'footprints_part2': footprints_part2})\n"
   ]
  },
  {
   "cell_type": "code",
   "execution_count": null,
   "metadata": {},
   "outputs": [],
   "source": [
    "import h5py\n",
    "\n",
    "# this is the directory that contains a /track2p folder that is output by running the track2p algorithm\n",
    "cellreg_path = os.path.join(save_path, 'cellreg')\n",
    "print(cellreg_path)\n",
    "\n",
    "with h5py.File(os.path.join(cellreg_path, \"cellRegistered.mat\"), 'r') as f:\n",
    "    # Accéder au dataset spécifique\n",
    "    cell_to_index_map = f['cell_registered_struct/cell_to_index_map']\n",
    " \n",
    "    cell_to_index_map = np.array(cell_to_index_map)\n",
    "    print(cell_to_index_map.shape)\n",
    "\n",
    "    # Filtrer les colonnes où la première ligne n'est pas égale à 0\n",
    "    # Pour avoir la même shape que le tableau de match de track2p (autant de lignes que dans iscell > 0.5 du jour 1)\n",
    "    mask0 = cell_to_index_map[0, :] != 0\n",
    "    filtered_cell_to_index_map = cell_to_index_map[:, mask0]\n",
    "    print(filtered_cell_to_index_map.astype(int))\n",
    "\n",
    "    # Convertir en entier\n",
    "    filtered_cell_to_index_map = filtered_cell_to_index_map.astype(int)\n",
    "\n",
    "    # Remplacer les zéros par None et décrémenter les autres chiffres de 1\n",
    "    filtered_cell_to_index_map = np.where(filtered_cell_to_index_map == 0, None, filtered_cell_to_index_map - 1)\n",
    "    print(filtered_cell_to_index_map)\n",
    "\n",
    "    # Enregistrer le tableau modifié\n",
    "    np.save(os.path.join(cellreg_path, \"plane0_match_mat_cellreg.npy\"), filtered_cell_to_index_map)\n",
    "    print(\"NumPy file 'plane0_match_mat_cellreg.npy' created successfully.\")\n",
    "\n",
    "    # Charger et afficher le fichier NumPy modifié\n",
    "    cellreg_match_mat = np.load(os.path.join(cellreg_path, \"plane0_match_mat_cellreg.npy\"), allow_pickle=True)\n",
    "    print(cellreg_match_mat)\n",
    "    print(cellreg_match_mat.shape)"
   ]
  },
  {
   "cell_type": "code",
   "execution_count": null,
   "metadata": {},
   "outputs": [],
   "source": [
    "# Afficher le tableau modifié avec plt.imshow\n",
    "bool_array = np.where(cellreg_match_mat == None, 0, 1).astype(bool)\n",
    "plt.figure(figsize=(20, 1), dpi=500)\n",
    "plt.imshow(bool_array,  aspect='auto', vmin=0, vmax=1)\n",
    "plt.show()"
   ]
  },
  {
   "cell_type": "code",
   "execution_count": null,
   "metadata": {},
   "outputs": [],
   "source": [
    "cellreg_match_mat = cellreg_match_mat.T"
   ]
  },
  {
   "cell_type": "code",
   "execution_count": null,
   "metadata": {},
   "outputs": [],
   "source": [
    "cellreg_match_mat"
   ]
  },
  {
   "cell_type": "code",
   "execution_count": null,
   "metadata": {},
   "outputs": [],
   "source": [
    "for i in range(len(cellreg_match_mat)):\n",
    "    if all(x is None for x in cellreg_match_mat[i][1:]):\n",
    "        cellreg_match_mat[i] = None"
   ]
  },
  {
   "cell_type": "code",
   "execution_count": null,
   "metadata": {},
   "outputs": [],
   "source": [
    "cellreg_match_mat"
   ]
  },
  {
   "cell_type": "code",
   "execution_count": null,
   "metadata": {},
   "outputs": [],
   "source": [
    "# For same as t2p_match_mat\n",
    "for i in range(len(cellreg_match_mat)):\n",
    "    if cellreg_match_mat[i,1] is None:\n",
    "        cellreg_match_mat[i] = None\n",
    "\n",
    "#ne pas faire si cellreg pairs"
   ]
  },
  {
   "cell_type": "markdown",
   "metadata": {},
   "source": [
    "#### Getting real suite2p indexes to compare it to"
   ]
  },
  {
   "cell_type": "code",
   "execution_count": null,
   "metadata": {},
   "outputs": [],
   "source": [
    "def function_cellreg(path, plane):\n",
    "\n",
    "    if track_ops.iscell_thr is not None:\n",
    "        true_indices= np.empty(cellreg_match_mat.shape, dtype=object)\n",
    "        print(true_indices.shape)\n",
    "        \n",
    "    for (i, ds_path) in enumerate(track_ops.all_ds_path):\n",
    "        iscell = np.load(os.path.join(ds_path, 'suite2p', plane, 'iscell.npy'), allow_pickle=True)\n",
    "        s2p_indexes= np.where(iscell[:,1]>track_ops.iscell_thr)[0]\n",
    "        #print(s2p_indexes)\n",
    "        print(f'suite2P {len(s2p_indexes)}')\n",
    "        for j in range(cellreg_match_mat.shape[0]):\n",
    "                if track_ops.iscell_thr is not None:\n",
    "                    cellreg_index=cellreg_match_mat[j,i]\n",
    "                    print(cellreg_index)\n",
    "\n",
    "                if cellreg_index is None :\n",
    "                    true_index = None\n",
    "                else:\n",
    "                    true_index=s2p_indexes[cellreg_index]\n",
    "\n",
    "                true_indices[j, i] = true_index\n",
    "        else:\n",
    "            pass\n",
    "    if track_ops.iscell_thr is not None:        \n",
    "        np.save(os.path.join(path, \"true_indices_cellreg.npy\"), true_indices)\n",
    "        print(\"saved\")\n",
    "    else:\n",
    "        print(\"not in locals\")\n",
    "        \n",
    "function_cellreg(cellreg_path, plane)  \n",
    "\n",
    "indices_cellreg_npy= np.load(os.path.join(cellreg_path,\"true_indices_cellreg.npy\"), allow_pickle=True)\n",
    "print(indices_cellreg_npy)\n",
    "print(indices_cellreg_npy.shape)\n"
   ]
  },
  {
   "cell_type": "code",
   "execution_count": null,
   "metadata": {},
   "outputs": [],
   "source": [
    "# index rows for cells where the first row is in original_indices\n",
    "all_s2p_idxs_cellreg = []\n",
    "for idx in np.sort(original_indices):\n",
    "    idx_row = np.where(indices_cellreg_npy[:,0]==idx)\n",
    "    print(idx_row)\n",
    "\n",
    "    if len(idx_row[0]) == 0:\n",
    "        s2p_idxs = [None]*len(track_ops.all_ds_path)\n",
    "        #print('here')\n",
    "\n",
    "    else:\n",
    "        s2p_idxs = indices_cellreg_npy[idx_row]\n",
    "    all_s2p_idxs_cellreg.append(s2p_idxs[0])\n",
    "\n",
    "all_s2p_idxs_cellreg = np.array(all_s2p_idxs_cellreg)\n",
    "\n",
    "#print(all_s2p_idxs.dtype)\n",
    "print(all_s2p_idxs_cellreg)"
   ]
  },
  {
   "cell_type": "markdown",
   "metadata": {},
   "source": [
    "### Loading and processing 'ground truth' (csv table)"
   ]
  },
  {
   "cell_type": "code",
   "execution_count": null,
   "metadata": {},
   "outputs": [],
   "source": [
    "# load the data\n",
    "print(save_path)\n",
    "table = np.genfromtxt(os.path.join(save_path, 'ground_truth.csv'), delimiter=';', skip_header=1)\n",
    "sorted_indices = np.argsort(table[:, 0])\n",
    "table = table[sorted_indices]\n",
    "table = np.where(np.isnan(table), None, table)\n",
    "table = [[int(x) if x is not None else None for x in row] for row in table]\n",
    "table"
   ]
  },
  {
   "cell_type": "code",
   "execution_count": null,
   "metadata": {},
   "outputs": [],
   "source": [
    "for i in range(len(table)):\n",
    "    if all(x is None for x in table[i][1:]):\n",
    "        table[i] = None\n"
   ]
  },
  {
   "cell_type": "code",
   "execution_count": null,
   "metadata": {},
   "outputs": [],
   "source": [
    "for i in range(len(table)):\n",
    "    # print the rows\n",
    "    print(f'track2p:     {all_s2p_idxs[i]}')\n",
    "    print(f'manual:      {table[i]}')\n",
    "    print('')"
   ]
  },
  {
   "cell_type": "markdown",
   "metadata": {},
   "source": [
    "# Compute metrics"
   ]
  },
  {
   "cell_type": "markdown",
   "metadata": {},
   "source": [
    "## For 'all days\" registration"
   ]
  },
  {
   "cell_type": "markdown",
   "metadata": {},
   "source": [
    "###  For 'all days' evaluation"
   ]
  },
  {
   "cell_type": "code",
   "execution_count": null,
   "metadata": {},
   "outputs": [],
   "source": [
    "def compute_metrics_all_days(all_s2p_idxs, table, path):\n",
    "\n",
    "    all_s2p_idxs_copy = all_s2p_idxs.copy()\n",
    "    table_copy = table.copy()\n",
    "\n",
    "# Because we want only cell present on all days \n",
    "    for i in range(len(table)):\n",
    "        if all_s2p_idxs_copy[i] is not None:\n",
    "            if any(x is None for x in all_s2p_idxs_copy[i]):\n",
    "                all_s2p_idxs_copy[i] = None\n",
    "        if table_copy[i] is not None:\n",
    "            if any(x is None for x in table_copy[i]):\n",
    "                table_copy[i] = None\n",
    "\n",
    "        print(f'track2p:     {all_s2p_idxs_copy[i]}')\n",
    "        print(f'manual:      {table_copy[i]}')\n",
    "\n",
    "\n",
    "    FP_nb=0\n",
    "    TP_nb=0\n",
    "    FN_nb=0\n",
    "    IS_nb=0\n",
    "    TN_nb=0\n",
    "\n",
    "    for i in range(len(table_copy)):\n",
    "        if all_s2p_idxs_copy[i] is None and table_copy[i] is None:\n",
    "                TN_nb +=1\n",
    "        # if track2p detected on all days \n",
    "        elif all_s2p_idxs_copy[i] is None and table_copy[i] is not None:\n",
    "                FN_nb +=1\n",
    "        elif all_s2p_idxs_copy[i] is not None and table_copy[i] is None:\n",
    "                FP_nb +=1\n",
    "        elif all_s2p_idxs_copy[i] is not None and table_copy[i] is not None:\n",
    "            if any((x!=y) for x, y in zip(all_s2p_idxs_copy[i], table_copy[i])):\n",
    "                    IS_nb += 1\n",
    "            else:\n",
    "                    TP_nb +=1\n",
    "\n",
    "    TP_rate= TP_nb/len(table)\n",
    "    TN_rate= TN_nb/len(table)\n",
    "    FP_rate= FP_nb/len(table)\n",
    "    FN_rate= FN_nb/len(table)\n",
    "    IS_rate= IS_nb/len(table)\n",
    "\n",
    "    print(f'Sum of rates: {TP_rate + TN_rate + FP_rate + FN_rate + IS_rate:.2f}')\n",
    "\n",
    "\n",
    " # Calcul de la précision\n",
    "    if (TP_nb + FP_nb + IS_nb) != 0:\n",
    "        precision = TP_nb / (TP_nb + FP_nb + IS_nb)\n",
    "    else:\n",
    "        precision = 0\n",
    "\n",
    "    # Calcul du rappel\n",
    "    if (TP_nb + FN_nb) != 0:\n",
    "        recall = TP_nb / (TP_nb + FN_nb)\n",
    "    else:\n",
    "        recall = 0\n",
    "\n",
    "    # Calcul du F1-score\n",
    "    if (precision + recall) != 0:\n",
    "        f1 = (2 * precision * recall) / (precision + recall)\n",
    "    else:\n",
    "        f1 = 0\n",
    "\n",
    "    print(f'Precision: {precision}')\n",
    "    print(f'Recall: {recall}')\n",
    "    print(f'F1: {f1}')\n",
    "\n",
    "    metrics = np.array([\n",
    "    ['TP', TP_rate],\n",
    "    ['TN', TN_rate],\n",
    "    ['FP', FP_rate],\n",
    "    ['FN', FN_rate],\n",
    "    ['IS', IS_rate],\n",
    "    ['Precision', round(precision, 2)],\n",
    "    ['Recall', round(recall, 2)],\n",
    "    ['F1', round(f1, 2)]\n",
    "    ], dtype=object)\n",
    "\n",
    "\n",
    "    filename = os.path.join(path, 'metrics_t2p_all_days.npy')\n",
    "    np.save(filename, metrics)\n",
    "    print(f\"NumPy file '{filename}' created successfully.\")"
   ]
  },
  {
   "cell_type": "code",
   "execution_count": null,
   "metadata": {},
   "outputs": [],
   "source": [
    "compute_metrics_all_days(all_s2p_idxs, table, t2p_save_path)"
   ]
  },
  {
   "cell_type": "code",
   "execution_count": null,
   "metadata": {},
   "outputs": [],
   "source": [
    "metrics_t2p_all_days = np.load(os.path.join(t2p_save_path, 'metrics_t2p_all_days.npy'), allow_pickle=True)\n",
    "print(metrics_t2p_all_days)"
   ]
  },
  {
   "cell_type": "markdown",
   "metadata": {},
   "source": [
    "### For 'pairwise' evaluation"
   ]
  },
  {
   "cell_type": "code",
   "execution_count": null,
   "metadata": {},
   "outputs": [],
   "source": [
    "def calculate_metrics_pairs(manual_matches_elements,all_s2p_idxs_elements):\n",
    "    \n",
    "    FP_nb=0\n",
    "    TP_nb=0\n",
    "    FN_nb=0\n",
    "    IS_nb=0\n",
    "    TN_nb=0\n",
    "\n",
    "\n",
    "    for i in range(len(manual_matches_elements)):\n",
    "        if all_s2p_idxs_elements[i][1] is None  and manual_matches_elements[i][1] is None:\n",
    "                TN_nb +=1\n",
    "\n",
    "        \n",
    "        # if track2p detected on all days \n",
    "        elif all_s2p_idxs_elements[i][1] is None and manual_matches_elements[i][1] is not None:\n",
    "                FN_nb +=1\n",
    "      \n",
    "      \n",
    "        elif all_s2p_idxs_elements[i][1] is not  None and manual_matches_elements[i][1] is None:\n",
    "                FP_nb +=1\n",
    "    \n",
    "        elif all_s2p_idxs_elements[i][1] is not None and manual_matches_elements[i][1] is not None:\n",
    "            if all_s2p_idxs_elements[i][1] != manual_matches_elements[i][1]:\n",
    "                    IS_nb += 1\n",
    "            else:\n",
    "                    TP_nb +=1\n",
    "                    print (manual_matches_elements[i][1])\n",
    "                    print (all_s2p_idxs_elements[i][1])\n",
    "               \n",
    "\n",
    "\n",
    "    TP_rate= TP_nb/len(table)\n",
    "    TN_rate= TN_nb/len(table)\n",
    "    FP_rate= FP_nb/len(table)\n",
    "    FN_rate= FN_nb/len(table)\n",
    "    IS_rate= IS_nb/len(table)\n",
    "\n",
    "    print(f'TN: {TN_nb}')\n",
    "    print(f'FN: {FN_nb}')\n",
    "\n",
    "    print(f'Sum of rates: {TP_rate + TN_rate + FP_rate + FN_rate + IS_rate:.2f}')\n",
    "\n",
    "\n",
    " # Calcul de la précision\n",
    "    if (TP_nb + FP_nb + IS_nb) != 0:\n",
    "        precision = TP_nb / (TP_nb + FP_nb + IS_nb)\n",
    "    else:\n",
    "        precision = 0\n",
    "\n",
    "    # Calcul du rappel\n",
    "    if (TP_nb + FN_nb) != 0:\n",
    "        recall = TP_nb / (TP_nb + FN_nb)\n",
    "    else:\n",
    "        recall = 0\n",
    "\n",
    "    # Calcul du F1-score\n",
    "    if (precision + recall) != 0:\n",
    "        f1 = (2 * precision * recall) / (precision + recall)\n",
    "    else:\n",
    "        f1 = 0\n",
    "\n",
    "    return [TP_rate, TN_rate, FP_rate, FN_rate, IS_rate, precision, recall, f1]\n",
    "\n",
    "  \n"
   ]
  },
  {
   "cell_type": "markdown",
   "metadata": {},
   "source": [
    "#### track2p"
   ]
  },
  {
   "cell_type": "code",
   "execution_count": null,
   "metadata": {},
   "outputs": [],
   "source": [
    "metrics_names = ['TP', 'TN', 'FP', 'FN', 'IS', 'Precision', 'Recall', 'F1']\n",
    "nb_days = 7\n",
    "\n",
    "results = np.empty((len(metrics_names), nb_days), dtype=object)\n",
    "results[:, 0] = metrics_names\n",
    "\n",
    "print(results)"
   ]
  },
  {
   "cell_type": "code",
   "execution_count": null,
   "metadata": {},
   "outputs": [],
   "source": [
    "for day in range(1 , t2p_match_mat.shape[1]): \n",
    "\n",
    "    manual_matches_elements = [(sublist[0], sublist[day]) if sublist is not None and len(sublist) > day else (None, None) for sublist in table]\n",
    "    all_s2p_idxs_elements = [(sublist[0], sublist[day]) if sublist is not None and len(sublist) > day else (None, None) for sublist in all_s2p_idxs]\n",
    "\n",
    "    print(\"manual_matches_elements:\", manual_matches_elements)\n",
    "    print(\"all_s2p_idxs_elements:\", all_s2p_idxs_elements)\n",
    "\n",
    "    metrics = calculate_metrics_pairs(manual_matches_elements, all_s2p_idxs_elements)\n",
    "    results[:, day] = metrics\n",
    "\n",
    "np.save(os.path.join(t2p_save_path , 'metrics_table_pairs.npy'), results)\n",
    "\n"
   ]
  },
  {
   "cell_type": "code",
   "execution_count": null,
   "metadata": {},
   "outputs": [],
   "source": [
    "results_npy = np.load(os.path.join(t2p_save_path, 'metrics_table_pairs.npy'), allow_pickle=True)\n",
    "print(results_npy)\n",
    "print(t2p_save_path)"
   ]
  },
  {
   "cell_type": "markdown",
   "metadata": {},
   "source": [
    "#### cellreg"
   ]
  },
  {
   "cell_type": "code",
   "execution_count": null,
   "metadata": {},
   "outputs": [],
   "source": [
    "metrics_names = ['TP', 'TN', 'FP', 'FN', 'IS', 'Precision', 'Recall', 'F1']\n",
    "nb_days = 7\n",
    "\n",
    "results = np.empty((len(metrics_names), nb_days), dtype=object)\n",
    "results[:, 0] = metrics_names\n",
    "\n",
    "print(results)"
   ]
  },
  {
   "cell_type": "code",
   "execution_count": null,
   "metadata": {},
   "outputs": [],
   "source": [
    "for day in range(1, t2p_match_mat.shape[1]): \n",
    "\n",
    "    \n",
    "    manual_matches_elements = [(sublist[0], sublist[day]) if sublist is not None and len(sublist) > day else (None, None) for sublist in table]\n",
    "    all_cell_reg_elements = [(sublist[0], sublist[day]) if sublist is not None and len(sublist) > day else (None, None) for sublist in all_s2p_idxs_cellreg]\n",
    "\n",
    "    print(\"manual_matches_elements:\", manual_matches_elements)\n",
    "    print(\"all_s2p_idxs_elements:\", all_cell_reg_elements)\n",
    "\n",
    "    metrics = calculate_metrics_pairs(manual_matches_elements, all_cell_reg_elements)\n",
    "    results[:, day] = metrics\n",
    "\n",
    "np.save(os.path.join(cellreg_path, 'metrics_table_pairs.npy'), results)\n",
    "np.save(os.path.join(cellreg_path , 'metrics_table_pairs.npy'), results)"
   ]
  },
  {
   "cell_type": "code",
   "execution_count": null,
   "metadata": {},
   "outputs": [],
   "source": [
    "results_npy = np.load(os.path.join(cellreg_path, 'metrics_table_pairs.npy'), allow_pickle=True)\n",
    "print(results_npy)"
   ]
  },
  {
   "cell_type": "markdown",
   "metadata": {},
   "source": [
    "## For 'pairwise\" registration"
   ]
  },
  {
   "cell_type": "code",
   "execution_count": null,
   "metadata": {},
   "outputs": [],
   "source": [
    "metrics_names = ['TP', 'TN', 'FP', 'FN', 'IS', 'Precision', 'Recall', 'F1']\n",
    "nb_days = 7\n",
    "\n",
    "results = np.empty((len(metrics_names), nb_days), dtype=object)\n",
    "results[:, 0] = metrics_names\n",
    "\n",
    "print(results)"
   ]
  },
  {
   "cell_type": "code",
   "execution_count": null,
   "metadata": {},
   "outputs": [],
   "source": [
    "import os\n",
    "import numpy as np\n",
    "\n",
    "path = \"/Volumes/data_jm_share/data_proc/jm/jm046\"\n",
    "days = ['9', '10', '11', '12', '13', '14']\n",
    "columns = []\n",
    "\n",
    "for i, j in enumerate(days): \n",
    "    print(i)\n",
    "    t2p_path = os.path.join(path, f't2p_P8_{j}')\n",
    "    indices= function(t2p_path, 'plane0')\n",
    "    indices=np.load(os.path.join(t2p_path, 'true_indices.npy'), allow_pickle=True)\n",
    "    print(indices.shape)\n",
    "    # index rows for cells where the first row is in original_indices\n",
    "    all_s2p_idxs_pairs = []\n",
    "    for idx in np.sort(original_indices):\n",
    "        idx_row = np.where(indices[:,0]==idx)\n",
    "        #print(idx_row)\n",
    "\n",
    "        if len(idx_row[0]) == 0:\n",
    "            s2p_idxs = [None]*len(track_ops.all_ds_path)\n",
    "            #print('here')\n",
    "\n",
    "        else:\n",
    "            s2p_idxs = indices[idx_row]\n",
    "        all_s2p_idxs_pairs.append(s2p_idxs[0])\n",
    "\n",
    "    all_s2p_idxs_pairs = np.array(all_s2p_idxs_pairs)\n",
    "\n",
    "    manual_matches_elements = [(sublist[0], sublist[i+1]) if sublist is not None  else (None, None) for sublist in table]\n",
    "    all_s2p_idxs_elements = [(sublist[0], sublist[1]) if sublist is not None else (None, None) for sublist in all_s2p_idxs_pairs]\n",
    "#\n",
    "    print(\"manual_matches_elements:\", manual_matches_elements)\n",
    "    print(\"all_s2p_idxs_elements:\", all_s2p_idxs_elements)\n",
    "\n",
    "    metrics = calculate_metrics_pairs(manual_matches_elements, all_s2p_idxs_elements)\n",
    "    results[:, i + 1] = metrics\n",
    "\n",
    "np.save(os.path.join(path , 'metrics_table_pw_registration.npy'), results)\n"
   ]
  },
  {
   "cell_type": "code",
   "execution_count": null,
   "metadata": {},
   "outputs": [],
   "source": [
    "results_npy = np.load(os.path.join(path, 'metrics_table_pw_registration.npy'), allow_pickle=True)\n",
    "print(results_npy)"
   ]
  },
  {
   "cell_type": "markdown",
   "metadata": {},
   "source": [
    "## FIGURES"
   ]
  },
  {
   "cell_type": "code",
   "execution_count": null,
   "metadata": {},
   "outputs": [],
   "source": [
    "import numpy as np\n",
    "import os \n",
    "import matplotlib.pyplot as plt"
   ]
  },
  {
   "cell_type": "code",
   "execution_count": null,
   "metadata": {},
   "outputs": [],
   "source": [
    "# Chemins des fichiers NumPy\n",
    "base_path = '/Volumes/data_jm_share/data_proc/jm'  # Remplacez par le chemin correct\n",
    "conditions = ['chan0', 'chan1', 'rigid', 'cellreg']\n",
    "animals = ['jm038', 'jm039', 'jm046']\n",
    "symbols = {'jm038': 'x', 'jm039': '^', 'jm046': 'o'}\n",
    "colors = {'jm038': 'blue', 'jm039': 'red', 'jm046': 'green'}\n",
    "\n",
    "\n",
    "f1_values = {animal: [] for animal in animals}\n",
    "\n",
    "\n",
    "for animal in animals:\n",
    "    for condition in conditions:\n",
    "        metrics = np.load(os.path.join(base_path, animal, condition,'metrics_t2p_all_days.npy'), allow_pickle=True)\n",
    "        f1_value = metrics[np.where(metrics[:, 0] == 'F1')[0][0], 1]\n",
    "        f1_values[animal].append(f1_value)\n",
    "plt.figure(figsize=(3, 3))\n",
    "for animal in animals:\n",
    "    plt.plot(conditions, f1_values[animal], symbols[animal], label=animal, color=colors[animal])\n",
    "\n",
    "\n",
    "plt.ylabel('F1 Score')\n",
    "plt.yticks([0, 1])\n",
    "ax = plt.gca()\n",
    "ax.spines['top'].set_visible(False)\n",
    "ax.spines['right'].set_visible(False)\n",
    "plt.legend()\n",
    "plt.show()"
   ]
  },
  {
   "cell_type": "code",
   "execution_count": null,
   "metadata": {},
   "outputs": [],
   "source": [
    "# Chemins des fichiers NumPy\n",
    "base_path = '/Volumes/data_jm_share/data_proc/jm'  # Remplacez par le chemin correct\n",
    "conditions = ['chan0', 'chan1', 'rigid', 'cellreg']\n",
    "animals = ['jm038', 'jm039', 'jm046']\n",
    "symbols = {'jm038': 'x', 'jm039': '^', 'jm046': 'o'}\n",
    "colors = {'jm038': 'blue', 'jm039': 'red', 'jm046': 'green'}\n",
    "\n",
    "\n",
    "for condition in conditions:\n",
    "    plt.figure(figsize=(3, 3))\n",
    "    plt.title(f'{condition} (all days registration)')\n",
    "    plt.xlabel('Days')\n",
    "    plt.ylabel('F1 Score')\n",
    "\n",
    "    # Parcourir chaque animal\n",
    "    for animal in animals:\n",
    "        file_path = os.path.join(base_path, animal, condition, 'metrics_table_pairs.npy')\n",
    "        metrics = np.load(file_path, allow_pickle=True)\n",
    "\n",
    "        f1_scores = metrics[7, 1:].astype(float)\n",
    "\n",
    "        # Tracer les valeurs F1\n",
    "        days = np.arange(1, len(f1_scores) + 1)\n",
    "        plt.plot(days, f1_scores, label=animal, marker=symbols[animal], color=colors[animal])\n",
    "\n",
    "    plt.yticks([0, 1])\n",
    "    ax = plt.gca()\n",
    "    ax.spines['top'].set_visible(False)\n",
    "    ax.spines['right'].set_visible(False)\n",
    "    plt.xticks(days, [ 'P9', 'P10', 'P11', 'P12', 'P13', 'P14'])\n",
    "    plt.legend()\n",
    "    plt.show()\n",
    "\n"
   ]
  },
  {
   "cell_type": "code",
   "execution_count": null,
   "metadata": {},
   "outputs": [],
   "source": [
    "import os\n",
    "import numpy as np\n",
    "import matplotlib.pyplot as plt\n",
    "\n",
    "# Chemins des fichiers NumPy\n",
    "base_path = '/Volumes/data_jm_share/data_proc/jm'  # Remplacez par le chemin correct\n",
    "animals = ['jm038', 'jm039', 'jm046']\n",
    "symbols = {'jm038': 'x', 'jm039': '^', 'jm046': 'o'}\n",
    "colors = {'jm038': 'blue', 'jm039': 'red', 'jm046': 'green'}\n",
    "\n",
    "plt.figure(figsize=(3, 3))\n",
    "plt.title('chan 1 (PW registration)')\n",
    "plt.xlabel('Days')\n",
    "plt.ylabel('F1 Score')\n",
    "\n",
    "# Parcourir chaque animal\n",
    "for animal in animals:\n",
    "    file_path = os.path.join(base_path, animal, 'metrics_table_pw_registration.npy')\n",
    "    metrics = np.load(file_path, allow_pickle=True)\n",
    "\n",
    "    # Extraire les valeurs F1\n",
    "    f1_scores = metrics[7, 1:].astype(float)  # La ligne 7 contient les valeurs F1, à partir de la deuxième colonne\n",
    "\n",
    "    # Tracer les valeurs F1\n",
    "    days = np.arange(1, len(f1_scores) + 1)\n",
    "    plt.plot(days, f1_scores, label=animal, marker=symbols[animal], color=colors[animal])\n",
    "\n",
    "plt.yticks([0, 1])\n",
    "ax = plt.gca()\n",
    "ax.spines['top'].set_visible(False)\n",
    "ax.spines['right'].set_visible(False)\n",
    "plt.xticks(days, [ 'P9', 'P10', 'P11', 'P12', 'P13', 'P14'])\n",
    "plt.legend()\n",
    "plt.show()\n"
   ]
  },
  {
   "cell_type": "code",
   "execution_count": null,
   "metadata": {},
   "outputs": [],
   "source": [
    "base_path = '/Volumes/data_jm_share/data_proc/jm/jm038' \n",
    "days = ['9', '10', '11', '12', '13', '14']\n",
    "\n",
    "for i, j in enumerate(days): \n",
    "    t2p_path = os.path.join(base_path, f't2p_P8_{j}')\n",
    "    track_ops_dict = np.load(os.path.join(t2p_path, 'track2p', 'track_ops.npy'), allow_pickle=True).item()\n",
    "    track_ops = SimpleNamespace(**track_ops_dict) # create dummy object from the track_ops dictionary\n",
    "    print(track_ops.reg_chan)"
   ]
  }
 ],
 "metadata": {
  "kernelspec": {
   "display_name": "track2p",
   "language": "python",
   "name": "python3"
  },
  "language_info": {
   "codemirror_mode": {
    "name": "ipython",
    "version": 3
   },
   "file_extension": ".py",
   "mimetype": "text/x-python",
   "name": "python",
   "nbconvert_exporter": "python",
   "pygments_lexer": "ipython3",
   "version": "3.9.19"
  }
 },
 "nbformat": 4,
 "nbformat_minor": 2
}
