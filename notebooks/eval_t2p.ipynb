{
 "cells": [
  {
   "cell_type": "code",
   "execution_count": null,
   "metadata": {},
   "outputs": [],
   "source": [
    "# imports\n",
    "import os\n",
    "from types import SimpleNamespace\n",
    "import matplotlib.pyplot as plt\n",
    "import pandas as pd\n",
    "import csv\n",
    "import matplotlib.colors as mcolors\n",
    "import numpy as np"
   ]
  },
  {
   "cell_type": "code",
   "execution_count": null,
   "metadata": {},
   "outputs": [],
   "source": [
    "t2p_save_path = \"/Users/manonmantez/Desktop/jm038/t2p_affine_chan1_all_\"  # (change this based on your data)\n",
    "plane = 'plane0' # which plane to process (the example dataset is single-plane)"
   ]
  },
  {
   "cell_type": "code",
   "execution_count": null,
   "metadata": {},
   "outputs": [],
   "source": [
    "# np.load() the match matrix (plane0_match_mat.npy)\n",
    "t2p_match_mat = np.load(os.path.join(t2p_save_path,'track2p', f'{plane}_match_mat.npy'), allow_pickle=True)\n",
    "\n",
    "# np.load() settings (this contains suite2p paths etc.) (track_ops.npy)\n",
    "track_ops_dict = np.load(os.path.join(t2p_save_path, 'track2p', 'track_ops.npy'), allow_pickle=True).item()\n",
    "track_ops = SimpleNamespace(**track_ops_dict) # create dummy object from the track_ops dictionary\n",
    "\n",
    "print(t2p_save_path)\n",
    "print(track_ops.save_path)\n",
    "print(track_ops.reg_chan)\n",
    "print(track_ops.transform_type)\n",
    "print(t2p_match_mat.shape)\n",
    "#print(t2p_match_mat)"
   ]
  },
  {
   "cell_type": "code",
   "execution_count": null,
   "metadata": {},
   "outputs": [],
   "source": [
    "t2p_match_mat_notnone = t2p_match_mat != None #bolean matrix\n",
    "print(t2p_match_mat_notnone)\n",
    "plt.figure(figsize=(20, 1), dpi=500)\n",
    "plt.imshow(t2p_match_mat_notnone.T, aspect='auto', vmin=0, vmax=1)\n"
   ]
  },
  {
   "cell_type": "code",
   "execution_count": null,
   "metadata": {},
   "outputs": [],
   "source": [
    "print('Datasets used for t2p:\\n')\n",
    "for ds_path in track_ops.all_ds_path:\n",
    "    iscell=np.load(os.path.join(ds_path,'suite2p', 'plane0','iscell.npy'))\n",
    "    iscell = iscell[iscell[:, 0] > track_ops.iscell_thr]\n",
    "    print(len(iscell))\n"
   ]
  },
  {
   "cell_type": "markdown",
   "metadata": {},
   "source": [
    "## Above is the output of the algorithm, now generate ground truth"
   ]
  },
  {
   "cell_type": "markdown",
   "metadata": {},
   "source": [
    "### Generate grid"
   ]
  },
  {
   "cell_type": "code",
   "execution_count": null,
   "metadata": {},
   "outputs": [],
   "source": [
    "# load the suite2p output of the first dataset\n",
    "s2p_path = os.path.join(track_ops.all_ds_path[0], 'suite2p', plane)\n",
    "print(track_ops.all_ds_path)\n",
    "\n",
    "# load the ops and stat\n",
    "ops_first = np.load(os.path.join(s2p_path, 'ops.npy'), allow_pickle=True).item()\n",
    "stat_first = np.load(os.path.join(s2p_path, 'stat.npy'), allow_pickle=True)\n",
    "iscell_first = np.load(os.path.join(s2p_path, 'iscell.npy'), allow_pickle=True)\n",
    "s2p_inds = np.arange(len(stat_first))\n",
    "\n",
    "# filter stat based on the track2p probability\n",
    "print(f'Filtering stat based on the track2p probability (iscell_thr={track_ops.iscell_thr})')\n",
    "s2p_inds_iscell = s2p_inds[iscell_first[:, 0] > track_ops.iscell_thr]\n",
    "stat_first_iscell = stat_first[iscell_first[:, 0] > track_ops.iscell_thr]\n",
    "print(f'Filtered stat from {len(stat_first)} to {len(stat_first_iscell)} cells')\n",
    "\n"
   ]
  },
  {
   "cell_type": "code",
   "execution_count": null,
   "metadata": {},
   "outputs": [],
   "source": [
    "# now plot the fov with contours\n",
    "plt.figure(figsize=(10, 10))\n",
    "plt.imshow(ops_first['meanImg'], cmap='gray')\n",
    "for i in range(len(stat_first_iscell)):\n",
    "    # get random color \n",
    "    color = np.random.rand(3)\n",
    "    plt.scatter(stat_first_iscell[i]['xpix'], stat_first_iscell[i]['ypix'], s=1, color=color, alpha=0.5)"
   ]
  },
  {
   "cell_type": "code",
   "execution_count": null,
   "metadata": {},
   "outputs": [],
   "source": [
    "# now make a 8x8 grid on the image\n",
    "n_grid = 9\n",
    "grid_x = np.arange(0, ops_first['meanImg'].shape[1], ops_first['meanImg'].shape[1] // n_grid)\n",
    "grid_y = np.arange(0, ops_first['meanImg'].shape[0], ops_first['meanImg'].shape[0] // n_grid)\n",
    "\n",
    "plt.imshow(ops_first['meanImg'], cmap='gray')\n",
    "for i in range(n_grid):\n",
    "    plt.axvline(grid_x[i], color='r')\n",
    "    plt.axhline(grid_y[i], color='r')\n",
    "\n",
    "plt.axis('off')"
   ]
  },
  {
   "cell_type": "code",
   "execution_count": null,
   "metadata": {},
   "outputs": [],
   "source": [
    "# now for each grid cross get the nearest cell (except for 0 and 512 pixels)\n",
    "all_cell_med = []\n",
    "\n",
    "# get all cell medians from stat\n",
    "for i in range(len(stat_first_iscell)):\n",
    "    all_cell_med.append(stat_first_iscell[i]['med'])\n",
    "    "
   ]
  },
  {
   "cell_type": "code",
   "execution_count": null,
   "metadata": {},
   "outputs": [],
   "source": [
    "# compute coordinates of the grid crosses\n",
    "grid_crosses = []\n",
    "for i in range(1, n_grid):\n",
    "    for j in range(1, n_grid):\n",
    "        grid_crosses.append((grid_x[i], grid_y[j]))"
   ]
  },
  {
   "cell_type": "code",
   "execution_count": null,
   "metadata": {},
   "outputs": [],
   "source": [
    "grid_crosses"
   ]
  },
  {
   "cell_type": "code",
   "execution_count": null,
   "metadata": {},
   "outputs": [],
   "source": [
    "plt.imshow(ops_first['meanImg'], cmap='gray')\n",
    "for i in range(n_grid):\n",
    "    plt.axvline(grid_x[i], color='gray')\n",
    "    plt.axhline(grid_y[i], color='gray')\n",
    "for cross in grid_crosses:\n",
    "    plt.scatter(cross[0], cross[1], s=20, color='r')\n",
    "\n",
    "plt.axis('off')\n"
   ]
  },
  {
   "cell_type": "code",
   "execution_count": null,
   "metadata": {},
   "outputs": [],
   "source": [
    "# compute distances between each cell and each grid cross\n",
    "distances = np.zeros((len(stat_first_iscell), len(grid_crosses)))\n",
    "for i, cell_med in enumerate(all_cell_med):\n",
    "    for j, cross in enumerate(grid_crosses):\n",
    "        distances[i, j] = np.sqrt((cell_med[0] - cross[0])**2 + (cell_med[1] - cross[1])**2)"
   ]
  },
  {
   "cell_type": "code",
   "execution_count": null,
   "metadata": {},
   "outputs": [],
   "source": [
    "# now get the nearest cell for each grid cross\n",
    "nearest_cells = np.argmin(distances, axis=0)"
   ]
  },
  {
   "cell_type": "code",
   "execution_count": null,
   "metadata": {},
   "outputs": [],
   "source": [
    "nearest_cells"
   ]
  },
  {
   "cell_type": "code",
   "execution_count": null,
   "metadata": {},
   "outputs": [],
   "source": [
    "plt.imshow(ops_first['meanImg'], cmap='gray')\n",
    "\n",
    "for cross in grid_crosses:\n",
    "    plt.scatter(cross[0], cross[1], s=20, color='C0')\n",
    "\n",
    "plt.axis('off')\n",
    "\n",
    "for i, cell in enumerate(nearest_cells):\n",
    "    roi = np.zeros_like(ops_first['meanImg'])\n",
    "    roi[stat_first_iscell[cell]['ypix'], stat_first_iscell[cell]['xpix']] = 1\n",
    "    plt.contour(roi, levels=[0.5], colors='C1')"
   ]
  },
  {
   "cell_type": "code",
   "execution_count": null,
   "metadata": {},
   "outputs": [],
   "source": [
    "# now get the original indices\n",
    "original_indices = s2p_inds_iscell[nearest_cells]\n",
    "print('Now open suite2p and try to manually track cells:')\n",
    "[print(f'{original_indices[i]}') for i in range(len(original_indices))]"
   ]
  },
  {
   "cell_type": "code",
   "execution_count": null,
   "metadata": {},
   "outputs": [],
   "source": [
    "# make the same plot as above but with numbers labeled next to the roi\n",
    "plt.figure(figsize=(10, 10))\n",
    "# clip based on 99.99 percentile\n",
    "img = ops_first['meanImg'].copy()\n",
    "img[img > np.percentile(img, 99.99)] = np.percentile(img, 99.99)\n",
    "plt.imshow(img, cmap='gray')\n",
    "\n",
    "for i, cell in enumerate(nearest_cells):\n",
    "    roi = np.zeros_like(ops_first['meanImg'])\n",
    "    roi[stat_first_iscell[cell]['ypix'], stat_first_iscell[cell]['xpix']] = 1\n",
    "    plt.contour(roi, levels=[0.5], colors='C1')\n",
    "    plt.text(stat_first_iscell[cell]['med'][1]+10, stat_first_iscell[cell]['med'][0]-10, f'{original_indices[i]}', color='C1')\n",
    "    plt.scatter(grid_crosses[i][0], grid_crosses[i][1], s=20, color='C0', marker='x')\n",
    "\n",
    "plt.axis('off')"
   ]
  },
  {
   "cell_type": "code",
   "execution_count": null,
   "metadata": {},
   "outputs": [],
   "source": [
    "np.sort(original_indices)"
   ]
  },
  {
   "cell_type": "markdown",
   "metadata": {},
   "source": [
    "### Getting real suite2p indexes to compare it to"
   ]
  },
  {
   "cell_type": "code",
   "execution_count": null,
   "metadata": {},
   "outputs": [],
   "source": [
    "def function(path, plane):\n",
    "\n",
    "    track_ops_dict = np.load(os.path.join(path, \"track2p\", \"track_ops.npy\"), allow_pickle=True).item()\n",
    "    track_ops = SimpleNamespace(**track_ops_dict)\n",
    "    t2p_match_mat = np.load(os.path.join(path,\"track2p\" ,f\"{plane}_match_mat.npy\"), allow_pickle=True)\n",
    "    #t2p_match_mat_allday = t2p_match_mat\n",
    "    \n",
    "    if track_ops.iscell_thr is not None:\n",
    "        true_indices= np.empty((len(t2p_match_mat), len(track_ops.all_ds_path)), dtype=object)\n",
    "        \n",
    "    for j in range(len(t2p_match_mat)):\n",
    "        for (i, ds_path) in enumerate(track_ops.all_ds_path):\n",
    "            iscell = np.load(os.path.join(ds_path, 'suite2p', plane, 'iscell.npy'), allow_pickle=True)\n",
    "            if track_ops.iscell_thr is not None:\n",
    "                s2p_indexes= np.where(iscell[:,1]>track_ops.iscell_thr)[0]\n",
    "                t2p_index=t2p_match_mat[j,i]\n",
    "\n",
    "                if t2p_index is None:\n",
    "                    true_index = None\n",
    "                else:\n",
    "                    true_index=s2p_indexes[t2p_index]\n",
    "\n",
    "                true_indices[j, i] = true_index\n",
    "            else:\n",
    "                pass\n",
    "    if track_ops.iscell_thr is not None:        \n",
    "        np.save(os.path.join(path, \"true_indices.npy\"), true_indices)\n",
    "        print(\"saved\")\n",
    "    else:\n",
    "        print(\"not in locals\")\n",
    "        "
   ]
  },
  {
   "cell_type": "code",
   "execution_count": null,
   "metadata": {},
   "outputs": [],
   "source": [
    "#only if nerver done for this condition and this mouse before !!!! \n",
    "function(t2p_save_path, plane)  "
   ]
  },
  {
   "cell_type": "code",
   "execution_count": null,
   "metadata": {},
   "outputs": [],
   "source": [
    "indices_npy= np.load(os.path.join(t2p_save_path,\"true_indices.npy\"), allow_pickle=True)\n",
    "print(indices_npy)\n",
    "print(indices_npy.shape)\n",
    "print(t2p_save_path)\n",
    "\n",
    "#indices_npy (index of the cell in the suite2p output)"
   ]
  },
  {
   "cell_type": "code",
   "execution_count": null,
   "metadata": {},
   "outputs": [],
   "source": [
    "# Configurer numpy pour afficher tout le tableau sans troncature\n",
    "np.set_printoptions(threshold=np.inf)\n",
    "print(indices_npy)"
   ]
  },
  {
   "cell_type": "code",
   "execution_count": null,
   "metadata": {},
   "outputs": [],
   "source": [
    "# index rows for cells where the first row is in original_indices\n",
    "all_s2p_idxs = []\n",
    "for idx in np.sort(original_indices):\n",
    "    idx_row = np.where(indices_npy[:,0]==idx)\n",
    "\n",
    "    if len(idx_row[0]) == 0:\n",
    "        s2p_idxs = [None]*len(track_ops.all_ds_path)\n",
    "        #print('here')\n",
    "\n",
    "    else:\n",
    "        s2p_idxs = indices_npy[idx_row]\n",
    "    all_s2p_idxs.append(s2p_idxs[0])\n",
    "\n",
    "all_s2p_idxs = np.array(all_s2p_idxs)\n",
    "\n",
    "#print(all_s2p_idxs.dtype)\n",
    "print(f'all_s2p_idxs {all_s2p_idxs}')"
   ]
  },
  {
   "cell_type": "markdown",
   "metadata": {},
   "source": [
    "### Loading and processing cellreg outputs"
   ]
  },
  {
   "cell_type": "code",
   "execution_count": null,
   "metadata": {},
   "outputs": [],
   "source": [
    "# check if you are using track2p with channel 1 for each mouse (if not, change the path)\n",
    "from scipy.io import savemat\n",
    "import sys\n",
    "\n",
    "for i, ds_path in enumerate(track_ops.all_ds_path):\n",
    "\n",
    "    iscell = np.load(os.path.join(ds_path, 'suite2p', f'plane{plane}', 'iscell.npy'), allow_pickle=True)\n",
    "    stat = np.load(os.path.join(ds_path, 'suite2p', f'plane{plane}', 'stat.npy'), allow_pickle=True)\n",
    "    ops = np.load(os.path.join(ds_path, 'suite2p', f'plane{plane}', 'ops.npy'), allow_pickle=True).item()\n",
    "    \n",
    "\n",
    "    ind_iscell = np.where(iscell[:, 1] > 0.5)[0]  # Extraire les indices dans un tableau\n",
    "    print(f\"Indices des cellules : {ind_iscell}\")\n",
    "\n",
    "\n",
    "    Ly, Lx = int(ops['Ly']), int(ops['Lx'])\n",
    "    N = len(ind_iscell)  \n",
    "    print(f\"Nombre de cellules : {N}\")\n",
    "\n",
    "    footprints = np.zeros((N, Ly, Lx), dtype=np.int16)\n",
    "\n",
    "    for neuron_idx, cell_idx in enumerate(ind_iscell):\n",
    "        cell_stat = stat[cell_idx]\n",
    "\n",
    "        ypix = cell_stat['ypix']\n",
    "        xpix = cell_stat['xpix']\n",
    "        lam = cell_stat['lam']\n",
    "\n",
    "        footprints[neuron_idx, ypix, xpix] = lam.astype(np.int16)\n",
    "\n",
    "\n",
    "    save_path_part = os.path.join(ds_path, 'footprints_part.mat')\n",
    "\n",
    "    print(sys.getsizeof(footprints))\n",
    "    \n",
    "    \n",
    "    savemat(save_path_part, {'footprints_part1': footprints})\n"
   ]
  },
  {
   "cell_type": "code",
   "execution_count": null,
   "metadata": {},
   "outputs": [],
   "source": [
    "new_path = os.path.dirname(t2p_save_path)\n",
    "cellreg_path = os.path.join(new_path, 'cellreg')\n",
    "print(cellreg_path)"
   ]
  },
  {
   "cell_type": "code",
   "execution_count": null,
   "metadata": {},
   "outputs": [],
   "source": [
    "import h5py\n",
    "\n",
    "# this is the directory that contains a /track2p folder that is output by running the track2p algorithm\n",
    "# load the data\n",
    "\n",
    "with h5py.File(os.path.join(cellreg_path, \"cellRegistered.mat\"), 'r') as f:\n",
    "    # Accéder au dataset spécifique\n",
    "    cell_to_index_map = f['cell_registered_struct/cell_to_index_map']\n",
    " \n",
    "    cell_to_index_map = np.array(cell_to_index_map)\n",
    "    print(cell_to_index_map.shape)\n",
    "\n",
    "    # Filtrer les colonnes où la première ligne n'est pas égale à 0\n",
    "    # Pour avoir la même shape que le tableau de match de track2p (autant de lignes que dans iscell > 0.5 du jour 1)\n",
    "    mask0 = cell_to_index_map[0, :] != 0\n",
    "    filtered_cell_to_index_map = cell_to_index_map[:, mask0]\n",
    "    print(filtered_cell_to_index_map.astype(int))\n",
    "\n",
    "    # Convertir en entier\n",
    "    filtered_cell_to_index_map = filtered_cell_to_index_map.astype(int)\n",
    "\n",
    "    # Remplacer les zéros par None et décrémenter les autres chiffres de 1\n",
    "    filtered_cell_to_index_map = np.where(filtered_cell_to_index_map == 0, None, filtered_cell_to_index_map - 1)\n",
    "    print(filtered_cell_to_index_map)\n",
    "\n",
    "    # Enregistrer le tableau modifié\n",
    "    np.save(os.path.join(cellreg_path, \"plane0_match_mat_cellreg.npy\"), filtered_cell_to_index_map)\n",
    "    print(\"NumPy file 'plane0_match_mat_cellreg.npy' created successfully.\")\n"
   ]
  },
  {
   "cell_type": "code",
   "execution_count": null,
   "metadata": {},
   "outputs": [],
   "source": [
    "cellreg_match_mat = np.load(os.path.join(cellreg_path, \"plane0_match_mat_cellreg.npy\"), allow_pickle=True)\n",
    "print(cellreg_match_mat)\n",
    "print(cellreg_match_mat.shape)"
   ]
  },
  {
   "cell_type": "code",
   "execution_count": null,
   "metadata": {},
   "outputs": [],
   "source": [
    "# Afficher le tableau modifié avec plt.imshow\n",
    "bool_array = np.where(cellreg_match_mat == None, 0, 1).astype(bool)\n",
    "plt.figure(figsize=(20, 1), dpi=500)\n",
    "plt.imshow(bool_array,  aspect='auto', vmin=0, vmax=1)\n",
    "plt.show()"
   ]
  },
  {
   "cell_type": "code",
   "execution_count": null,
   "metadata": {},
   "outputs": [],
   "source": [
    "cellreg_match_mat = cellreg_match_mat.T"
   ]
  },
  {
   "cell_type": "code",
   "execution_count": null,
   "metadata": {},
   "outputs": [],
   "source": [
    "cellreg_match_mat"
   ]
  },
  {
   "cell_type": "code",
   "execution_count": null,
   "metadata": {},
   "outputs": [],
   "source": [
    "for i in range(len(cellreg_match_mat)):\n",
    "    if all(x is None for x in cellreg_match_mat[i][1:]):\n",
    "        cellreg_match_mat[i] = None"
   ]
  },
  {
   "cell_type": "code",
   "execution_count": null,
   "metadata": {},
   "outputs": [],
   "source": [
    "cellreg_match_mat"
   ]
  },
  {
   "cell_type": "code",
   "execution_count": null,
   "metadata": {},
   "outputs": [],
   "source": [
    "# For same as t2p_match_mat\n",
    "for i in range(len(cellreg_match_mat)):\n",
    "    if cellreg_match_mat[i,1] is None:\n",
    "        cellreg_match_mat[i] = None\n",
    "\n",
    "#ne pas faire si cellreg pairs\n"
   ]
  },
  {
   "cell_type": "code",
   "execution_count": null,
   "metadata": {},
   "outputs": [],
   "source": [
    "cellreg_match_mat"
   ]
  },
  {
   "cell_type": "markdown",
   "metadata": {},
   "source": [
    "#### Getting real suite2p indexes to compare it to"
   ]
  },
  {
   "cell_type": "code",
   "execution_count": null,
   "metadata": {},
   "outputs": [],
   "source": [
    "def function_cellreg(path, plane):\n",
    "\n",
    "    if track_ops.iscell_thr is not None:\n",
    "        true_indices= np.empty(cellreg_match_mat.shape, dtype=object)\n",
    "        print(true_indices.shape)\n",
    "        \n",
    "    for (i, ds_path) in enumerate(track_ops.all_ds_path):\n",
    "        iscell = np.load(os.path.join(ds_path, 'suite2p', plane, 'iscell.npy'), allow_pickle=True)\n",
    "        s2p_indexes= np.where(iscell[:,1]>track_ops.iscell_thr)[0]\n",
    "        #print(s2p_indexes)\n",
    "        print(f'suite2P {len(s2p_indexes)}')\n",
    "        for j in range(cellreg_match_mat.shape[0]):\n",
    "                if track_ops.iscell_thr is not None:\n",
    "                    cellreg_index=cellreg_match_mat[j,i]\n",
    "                    print(cellreg_index)\n",
    "\n",
    "                if cellreg_index is None :\n",
    "                    true_index = None\n",
    "                else:\n",
    "                    true_index=s2p_indexes[cellreg_index]\n",
    "\n",
    "                true_indices[j, i] = true_index\n",
    "        else:\n",
    "            pass\n",
    "    if track_ops.iscell_thr is not None:        \n",
    "        np.save(os.path.join(path, \"true_indices_cellreg.npy\"), true_indices)\n",
    "        print(\"saved\")\n",
    "    else:\n",
    "        print(\"not in locals\")\n",
    "        "
   ]
  },
  {
   "cell_type": "code",
   "execution_count": null,
   "metadata": {},
   "outputs": [],
   "source": [
    "function_cellreg(cellreg_path, plane)  "
   ]
  },
  {
   "cell_type": "code",
   "execution_count": null,
   "metadata": {},
   "outputs": [],
   "source": [
    "indices_cellreg_npy= np.load(os.path.join(cellreg_path,\"true_indices_cellreg.npy\"), allow_pickle=True)\n",
    "print(indices_cellreg_npy)\n",
    "print(indices_cellreg_npy.shape)"
   ]
  },
  {
   "cell_type": "code",
   "execution_count": null,
   "metadata": {},
   "outputs": [],
   "source": [
    "# index rows for cells where the first row is in original_indices\n",
    "all_s2p_idxs_cellreg = []\n",
    "for idx in np.sort(original_indices):\n",
    "    idx_row = np.where(indices_cellreg_npy[:,0]==idx)\n",
    "    print(idx_row)\n",
    "\n",
    "    if len(idx_row[0]) == 0:\n",
    "        s2p_idxs = [None]*len(track_ops.all_ds_path)\n",
    "        #print('here')\n",
    "\n",
    "    else:\n",
    "        s2p_idxs = indices_cellreg_npy[idx_row]\n",
    "    all_s2p_idxs_cellreg.append(s2p_idxs[0])\n",
    "\n",
    "all_s2p_idxs_cellreg = np.array(all_s2p_idxs_cellreg)\n"
   ]
  },
  {
   "cell_type": "code",
   "execution_count": null,
   "metadata": {},
   "outputs": [],
   "source": [
    "all_s2p_idxs_cellreg"
   ]
  },
  {
   "cell_type": "markdown",
   "metadata": {},
   "source": [
    "### Loading and processing 'ground truth' "
   ]
  },
  {
   "cell_type": "code",
   "execution_count": null,
   "metadata": {},
   "outputs": [],
   "source": [
    "# load the data\n",
    "new_path = os.path.dirname(t2p_save_path)\n",
    "print(new_path)\n",
    "\n",
    "table = np.genfromtxt(os.path.join(new_path, 'ground_truth.csv'), delimiter=';', skip_header=1)\n",
    "sorted_indices = np.argsort(table[:, 0])\n",
    "table = table[sorted_indices]\n",
    "table = np.where(np.isnan(table), None, table)\n",
    "table = [[int(x) if x is not None else None for x in row] for row in table]\n",
    "table"
   ]
  },
  {
   "cell_type": "code",
   "execution_count": null,
   "metadata": {},
   "outputs": [],
   "source": [
    "# same as track2p\n",
    "for i in range(len(table)):\n",
    "    if all(x is None for x in table[i][1:]):\n",
    "        table[i] = None\n",
    "\n",
    "print(table)"
   ]
  },
  {
   "cell_type": "code",
   "execution_count": null,
   "metadata": {},
   "outputs": [],
   "source": [
    "for i in range(len(table)):\n",
    "    # print the rows\n",
    "    print(f'track2p:     {all_s2p_idxs[i]}')\n",
    "    print(f'manual:      {table[i]}')\n",
    "    print('')"
   ]
  },
  {
   "cell_type": "markdown",
   "metadata": {},
   "source": [
    "## Processing track2p and ground truth and compute metrics"
   ]
  },
  {
   "cell_type": "code",
   "execution_count": null,
   "metadata": {},
   "outputs": [],
   "source": [
    "def compute_performance_criteria(all_s2p_idxs_without_none, table_without_none):\n",
    "\n",
    "    #Tgt : number of all references tracks \n",
    "    #Tc : number of all computed tracks\n",
    "    #Trc : number of completely reconstructed reference tracks \n",
    "\n",
    "    Tgt= len(table_without_none)\n",
    "    print(f\"Tgt : {Tgt}\")\n",
    "    Tc= len(all_s2p_idxs_without_none)\n",
    "    print(f\"Tc : {Tc}\")\n",
    "    Trc= 0\n",
    "\n",
    "    for line in table_without_none:\n",
    "        found = any(all(elem in row for elem in line) for row in all_s2p_idxs_without_none if row is not None)\n",
    "        if found:\n",
    "            #print(f\"Tous les éléments de la ligne {line} sont retrouvés dans all_s2p_idxs_without_none.\")\n",
    "            Trc += 1\n",
    "        else:\n",
    "            print(f\"Tous les éléments de la ligne {line} ne sont pas retrouvés dans all_s2p_idxs_without_none.\")\n",
    "\n",
    "    CT= (2*Trc)/(Tgt+Tc)\n",
    "    Accuracy= Trc/Tgt\n",
    "    print(f\"Trc : {Trc}\")\n",
    "    print(f\"CT : { round(CT, 2)}\")\n",
    "    print(f\"Accuracy : {round(Accuracy,2)}\")\n",
    "    \n",
    "    \n",
    "    return CT, Accuracy\n"
   ]
  },
  {
   "cell_type": "markdown",
   "metadata": {},
   "source": [
    "### Only cells present on X days of analysis separately for GT and Track2p"
   ]
  },
  {
   "cell_type": "code",
   "execution_count": null,
   "metadata": {},
   "outputs": [],
   "source": [
    "CT_values= []\n",
    "accuracy_values= []\n",
    "\n",
    "for i in range (2, t2p_match_mat.shape[1] + 1):\n",
    "    all_s2p_idxs_copy = all_s2p_idxs.copy()\n",
    "    table_copy=table.copy()\n",
    "    \n",
    "    filtered_all_s2p_idxs = [row[:i] if row is not None else None for row in all_s2p_idxs_copy]\n",
    "    filtered_table_copy = [row[:i] if row is not None else None for row in table_copy]\n",
    "\n",
    "    for i in range(len(filtered_all_s2p_idxs)):\n",
    "        if filtered_all_s2p_idxs[i] is not None: \n",
    "            if any(x is None for x in filtered_all_s2p_idxs[i]):\n",
    "                    filtered_all_s2p_idxs[i] = None\n",
    "\n",
    "    for i in range(len(filtered_table_copy)):\n",
    "        if filtered_table_copy[i] is not None:\n",
    "                if any(x is None for x in filtered_table_copy[i]):\n",
    "                    filtered_table_copy[i] = None\n",
    "\n",
    "    count = sum(1 for row in filtered_table_copy if row is not None)\n",
    "    print(f'GT {count}')\n",
    "    count = sum(1 for row in filtered_all_s2p_idxs if row is not None)\n",
    "    print(f'Track2p {count}')\n",
    "\n",
    "    table_without_none = [x for x in filtered_table_copy if x is not None]\n",
    "    all_s2p_idxs_without_none = [x for x in filtered_all_s2p_idxs if x is not None]\n",
    "    print(len(table_without_none))\n",
    "    print(len(all_s2p_idxs_without_none))\n",
    "\n",
    "    Ct, accuracy = compute_performance_criteria (all_s2p_idxs_without_none, table_without_none)\n",
    "    CT_values.append(round(Ct,2))\n",
    "    accuracy_values.append(round(accuracy,2))\n",
    "\n",
    "    print('')\n",
    "\n",
    "result = np.empty((2, len(CT_values) + 1), dtype=object)\n",
    "result[0, 0] = \"CT\"\n",
    "result[1, 0] = \"accuracy\"\n",
    "result[0, 1:] = CT_values\n",
    "result[1, 1:] = accuracy_values\n",
    "print(result)\n",
    "\n",
    "np.save(os.path.join(t2p_save_path, 'result_CT.npy'), result)"
   ]
  },
  {
   "cell_type": "markdown",
   "metadata": {},
   "source": [
    "### Only the cells presents on all days in the GT (table) and evaluation from last day to D0 (first day of analysis) "
   ]
  },
  {
   "cell_type": "code",
   "execution_count": null,
   "metadata": {},
   "outputs": [],
   "source": [
    "table_cpy=table.copy()\n",
    "for i in range(len(table_cpy)):\n",
    "        if table_cpy[i] is not None: \n",
    "            if any(x is None for x in table_cpy[i]):\n",
    "                    table_cpy[i] = None\n",
    "table_all_days = [x for x in table_cpy if x is not None]\n",
    "indices_all_days = [i for i, x in enumerate(table_cpy) if x is not None]\n",
    "print(len(table_all_days))\n",
    "\n",
    "all_s2p_idxs_cpy=all_s2p_idxs.copy()\n",
    "all_s2p_idxs_gt = all_s2p_idxs_cpy[indices_all_days]\n",
    "print(len(all_s2p_idxs_gt))\n",
    "\n",
    "CT_values= []\n",
    "accuracy_values= []\n",
    "\n",
    "for i in range (2, t2p_match_mat.shape[1] + 1):\n",
    "        all_s2p_idxs_i = [row[:i] if row is not None else None for row in all_s2p_idxs_gt]\n",
    "        print(all_s2p_idxs_i)\n",
    "        table_i= [row[:i] if row is not None else None for row in table_all_days]\n",
    "        print(table_i)\n",
    "        Ct, accuracy= compute_performance_criteria(all_s2p_idxs_i, table_i)\n",
    "        CT_values.append(round(Ct,2))\n",
    "        accuracy_values.append(round(Ct,2))\n",
    "\n",
    "result = np.empty((2, len(CT_values) + 1), dtype=object)\n",
    "result[0, 0] = \"CT\"\n",
    "result[1, 0] = \"accuracy\"\n",
    "result[0, 1:] = CT_values\n",
    "result[1, 1:] = accuracy_values\n",
    "print(result)\n",
    "\n",
    "np.save(os.path.join(t2p_save_path, 'result_CT_GT.npy'), result)\n"
   ]
  },
  {
   "cell_type": "code",
   "execution_count": null,
   "metadata": {},
   "outputs": [],
   "source": [
    "print(np.load(os.path.join(t2p_save_path, 'result_CT.npy'), allow_pickle=True))"
   ]
  },
  {
   "cell_type": "code",
   "execution_count": null,
   "metadata": {},
   "outputs": [],
   "source": [
    "print(np.load(os.path.join(t2p_save_path, 'result_CT_GT.npy'), allow_pickle=True))"
   ]
  },
  {
   "cell_type": "code",
   "execution_count": null,
   "metadata": {},
   "outputs": [],
   "source": [
    "original_indices_sorted=np.sort(original_indices)\n",
    "original_indices_all_days = original_indices_sorted[indices_all_days]\n",
    "print(original_indices_all_days)\n",
    "nearest_cells_sorted=np.sort(nearest_cells)\n",
    "nearest_cells_all_days = nearest_cells_sorted[indices_all_days]\n",
    "print(nearest_cells_all_days)\n",
    "# make the same plot as above but with numbers labeled next to the roi\n",
    "plt.figure(figsize=(10, 10))\n",
    "# clip based on 99.99 percentile\n",
    "img = ops_first['meanImg'].copy()\n",
    "img[img > np.percentile(img, 99.99)] = np.percentile(img, 99.99)\n",
    "plt.imshow(img, cmap='gray')\n",
    "\n",
    "for i, cell in enumerate(nearest_cells_all_days):\n",
    "    roi = np.zeros_like(ops_first['meanImg'])\n",
    "    roi[stat_first_iscell[cell]['ypix'], stat_first_iscell[cell]['xpix']] = 1\n",
    "    plt.contour(roi, levels=[0.5], colors='C1')\n",
    "    plt.text(stat_first_iscell[cell]['med'][1]+10, stat_first_iscell[cell]['med'][0]-10, f'{original_indices_all_days[i]}', color='C1')\n",
    "    #plt.scatter(grid_crosses[i][0], grid_crosses[i][1], s=20, color='C0', marker='x')\n",
    "\n",
    "plt.axis('off')\n"
   ]
  },
  {
   "cell_type": "markdown",
   "metadata": {},
   "source": [
    "### As above, but for cellreg"
   ]
  },
  {
   "cell_type": "code",
   "execution_count": null,
   "metadata": {},
   "outputs": [],
   "source": [
    "CT_values= []\n",
    "accuracy_values= []\n",
    "\n",
    "for i in range (2, t2p_match_mat.shape[1] + 1):\n",
    "    all_s2p_idxs_cellreg_copy = all_s2p_idxs_cellreg.copy()\n",
    "    table_copy=table.copy()\n",
    "    \n",
    "    filtered_all_s2p_idxs_cellreg = [row[:i] if row is not None else None for row in all_s2p_idxs_cellreg_copy]\n",
    "    filtered_table_copy = [row[:i] if row is not None else None for row in table_copy]\n",
    "\n",
    "    for i in range(len(filtered_all_s2p_idxs_cellreg)):\n",
    "        if filtered_all_s2p_idxs_cellreg[i] is not None: \n",
    "            if any(x is None for x in filtered_all_s2p_idxs_cellreg[i]):\n",
    "                    filtered_all_s2p_idxs_cellreg[i] = None\n",
    "\n",
    "    for i in range(len(filtered_table_copy)):\n",
    "        if filtered_table_copy[i] is not None:\n",
    "                if any(x is None for x in filtered_table_copy[i]):\n",
    "                    filtered_table_copy[i] = None\n",
    "\n",
    "    count = sum(1 for row in filtered_table_copy if row is not None)\n",
    "    print(f'GT {count}')\n",
    "    count = sum(1 for row in filtered_all_s2p_idxs_cellreg if row is not None)\n",
    "    print(f'Track2p {count}')\n",
    "\n",
    "    table_without_none = [x for x in filtered_table_copy if x is not None]\n",
    "    all_s2p_idxs_cellreg_none = [x for x in filtered_all_s2p_idxs_cellreg if x is not None]\n",
    "    print(len(table_without_none))\n",
    "    print(len(all_s2p_idxs_cellreg_none))\n",
    "\n",
    "    Ct, accuracy = compute_performance_criteria (all_s2p_idxs_cellreg_none, table_without_none)\n",
    "    CT_values.append(round(Ct,2))\n",
    "    accuracy_values.append(round(accuracy,2))\n",
    "\n",
    "    print('')\n",
    "\n",
    "result = np.empty((2, len(CT_values) + 1), dtype=object)\n",
    "result[0, 0] = \"CT\"\n",
    "result[1, 0] = \"accuracy\"\n",
    "result[0, 1:] = CT_values\n",
    "result[1, 1:] = accuracy_values\n",
    "print(result)\n",
    "\n",
    "np.save(os.path.join(cellreg_path, 'result_CT.npy'), result)\n",
    "    "
   ]
  },
  {
   "cell_type": "code",
   "execution_count": null,
   "metadata": {},
   "outputs": [],
   "source": [
    "table_cpy=table.copy()\n",
    "for i in range(len(table_cpy)):\n",
    "        if table_cpy[i] is not None: \n",
    "            if any(x is None for x in table_cpy[i]):\n",
    "                    table_cpy[i] = None\n",
    "table_all_days = [x for x in table_cpy if x is not None]\n",
    "indices_all_days = [i for i, x in enumerate(table_cpy) if x is not None]\n",
    "print(len(table_all_days))\n",
    "\n",
    "all_s2p_idxs_cellreg_copy=all_s2p_idxs_cellreg.copy()\n",
    "all_s2p_idxs_cellreg_gt = all_s2p_idxs_cellreg_copy[indices_all_days]\n",
    "print(len(all_s2p_idxs_cellreg_gt))\n",
    "\n",
    "CT_values= []\n",
    "accuracy_values= []\n",
    "\n",
    "for i in range (2, t2p_match_mat.shape[1] + 1):\n",
    "        all_s2p_idxs_i = [row[:i] if row is not None else None for row in all_s2p_idxs_cellreg_gt]\n",
    "        table_i= [row[:i] if row is not None else None for row in table_all_days]\n",
    "        Ct, accuracy= compute_performance_criteria(all_s2p_idxs_i, table_i)\n",
    "        CT_values.append(round(Ct,2))\n",
    "        accuracy_values.append(round(Ct,2))\n",
    "\n",
    "result = np.empty((2, len(CT_values) + 1), dtype=object)\n",
    "result[0, 0] = \"CT\"\n",
    "result[1, 0] = \"accuracy\"\n",
    "result[0, 1:] = CT_values\n",
    "result[1, 1:] = accuracy_values\n",
    "print(result)\n",
    "\n",
    "np.save(os.path.join(cellreg_path, 'result_CT_GT.npy'), result)"
   ]
  }
 ],
 "metadata": {
  "kernelspec": {
   "display_name": "track2p",
   "language": "python",
   "name": "python3"
  },
  "language_info": {
   "codemirror_mode": {
    "name": "ipython",
    "version": 3
   },
   "file_extension": ".py",
   "mimetype": "text/x-python",
   "name": "python",
   "nbconvert_exporter": "python",
   "pygments_lexer": "ipython3",
   "version": "3.9.18"
  }
 },
 "nbformat": 4,
 "nbformat_minor": 2
}
