{
 "cells": [
  {
   "cell_type": "markdown",
   "metadata": {},
   "source": [
    "# Analysing output of t2p\n",
    "This is a short demo explaining how to explore the output of track2p and use the matched neurons/traces for custom downstream analysis."
   ]
  },
  {
   "cell_type": "markdown",
   "metadata": {},
   "source": [
    "The example here is for a 1 plane recording with simultaneous videography (given dataset is jm032)."
   ]
  },
  {
   "cell_type": "code",
   "execution_count": null,
   "metadata": {},
   "outputs": [],
   "source": [
    "# imports\n",
    "import os\n",
    "from types import SimpleNamespace\n",
    "\n",
    "import numpy as np\n",
    "import matplotlib.pyplot as plt\n",
    "\n",
    "from scipy.stats import zscore\n"
   ]
  },
  {
   "cell_type": "markdown",
   "metadata": {},
   "source": [
    "### Step by step guide (more detailed explanations below):\n",
    "\n",
    "Each point from this list matches one section of this notebook\n",
    "\n",
    "1) Load the output of track2p\n",
    "2) Find cells that are present in all recordings ('matched cells')\n",
    "3) Load the data from one example dataset and visualise it\n",
    "4) Load the activity of the matched cells\n",
    "5) Visualise the activity of matched cells"
   ]
  },
  {
   "cell_type": "markdown",
   "metadata": {},
   "source": [
    "### 1) Load the output of track2p\n",
    "We will load the `.npy` files: `t2p_output_path/track2p/plane#_match_mat.npy` and `t2p_output_path/track2p/track_ops.npy`. These are the matrix of cell matches for all days and the settings respectively. For more info see the repo readme and documentation.\n",
    "\n",
    "Note: In this demo a single-plane recording is used, but it can be modified easily for multiplane compatility (just repeat the same procedure while looping through planes)"
   ]
  },
  {
   "cell_type": "code",
   "execution_count": null,
   "metadata": {},
   "outputs": [],
   "source": [
    "# this is the directory that contains a /track2p folder that is output by running the track2p algorithm\n",
    "t2p_save_path = '/Users/manonmantez/Desktop/el' # (change this based on your data)\n",
    "plane = 'plane0' # which plane to process (the example dataset is single-plane)"
   ]
  },
  {
   "cell_type": "code",
   "execution_count": null,
   "metadata": {},
   "outputs": [],
   "source": [
    "# np.load() the match matrix (plane0_match_mat.npy)\n",
    "t2p_match_mat = np.load(os.path.join(t2p_save_path, 'track2p', f'{plane}_match_mat.npy'), allow_pickle=True)\n",
    "\n",
    "# np.load() settings (this contains suite2p paths etc.) (track_ops.npy)\n",
    "track_ops_dict = np.load(os.path.join(t2p_save_path, 'track2p', 'track_ops.npy'), allow_pickle=True).item()\n",
    "track_ops = SimpleNamespace(**track_ops_dict) # create dummy object from the track_ops dictionary"
   ]
  },
  {
   "cell_type": "markdown",
   "metadata": {},
   "source": [
    "### 2) Find cells that are present in all recordings ('matched cells')\n",
    "\n"
   ]
  },
  {
   "cell_type": "markdown",
   "metadata": {},
   "source": [
    "Now from this matrix get the matches that are present on all days:\n",
    "\n",
    "- A matrix (`plane#_match_mat.npy`) containing the indices of matched neurons across the session for a given plane (`#` is the index of the plane). Since matching is done from first day to last, some neurons will not be sucessfully tracked after one or a few days. In this case the matrix contains `None` values. To get neurons tracked across all days only take the rows of the matrices containing no `None` values. \n",
    "\n",
    "Note: of course we can use cells that are not present on all days, but for now this is the intended use case for downstream analysis."
   ]
  },
  {
   "cell_type": "code",
   "execution_count": null,
   "metadata": {},
   "outputs": [],
   "source": [
    "# get the rows that do not contain any Nones (if track2p doesnt find a match for a cell across two consecutive days it will append a None) -> cells with no Nones are cells matched across all days\n",
    "t2p_match_mat_allday = t2p_match_mat[~np.any(t2p_match_mat==None, axis=1), :]\n",
    "\n",
    "print(f'Shape of match matrix for cells present on all days: {t2p_match_mat_allday.shape} (cells, days)')"
   ]
  },
  {
   "cell_type": "markdown",
   "metadata": {},
   "source": [
    "### 3) Load the data from one example dataset and visualise it\n",
    "\n",
    "Note: The track_ops.npy ('settings file') contains all the paths to suite2p folders used when running track2p (see cell below)"
   ]
  },
  {
   "cell_type": "code",
   "execution_count": null,
   "metadata": {},
   "outputs": [],
   "source": [
    "print('Datasets used for t2p:\\n')\n",
    "for ds_path in track_ops.all_ds_path:\n",
    "    print(ds_path)"
   ]
  },
  {
   "cell_type": "markdown",
   "metadata": {},
   "source": [
    "Now just to test if the paths work we can try to look at data of one of the recordings (in the case below we use the last one). For this part it is important to know a bit about how the suite2p structures the outputs: https://suite2p.readthedocs.io/en/latest/outputs.html (the important things will be the `ops.npy`, `stat.npy`, `iscell.npy` and the `F.npy`). There are also separate tutorials and demos for this so we won't go into so much detail."
   ]
  },
  {
   "cell_type": "code",
   "execution_count": null,
   "metadata": {},
   "outputs": [],
   "source": [
    "# lets take the last dataset\n",
    "last_ds_path = track_ops.all_ds_path[-1]\n",
    "print(f'We will look at the dataset saved at: {last_ds_path}')"
   ]
  },
  {
   "cell_type": "code",
   "execution_count": null,
   "metadata": {},
   "outputs": [],
   "source": [
    "# load the three files\n",
    "last_ops = np.load(os.path.join(last_ds_path, 'suite2p', plane, 'ops.npy'), allow_pickle=True).item()\n",
    "last_f = np.load(os.path.join(last_ds_path, 'suite2p', plane, 'F.npy'), allow_pickle=True)\n",
    "iscell = np.load(os.path.join(last_ds_path, 'suite2p', plane, 'iscell.npy'), allow_pickle=True)"
   ]
  },
  {
   "cell_type": "code",
   "execution_count": null,
   "metadata": {},
   "outputs": [],
   "source": [
    "# we filter the traces based on suite2p's iscell probability (note: it is crucial to use the same probability as in the track2p settings to keep the correct indexing of matches)\n",
    "iscell_thr = track_ops.iscell_thr\n",
    "\n",
    "print(f'The iscell threshold used when running track2p was: {iscell_thr}')\n",
    "\n",
    "if track_ops.iscell_thr==None:\n",
    "    last_f_iscell = last_f[iscell[:, 0] == 1, :]\n",
    "\n",
    "else:\n",
    "    last_f_iscell = last_f[iscell[:, 1] > iscell_thr, :]"
   ]
  },
  {
   "cell_type": "code",
   "execution_count": null,
   "metadata": {},
   "outputs": [],
   "source": [
    "# now first plot the mean image of the movie (it is saved in ops.npy, for more info see the suite2p outputs documentation)\n",
    "plt.imshow(last_ops['meanImg'], cmap='gray')\n",
    "plt.axis('off')\n",
    "plt.title('Mean image')\n",
    "plt.show()\n",
    "\n",
    "plt.figure(figsize=(10, 1))\n",
    "nonmatch_nrn_idx = 0\n",
    "plt.plot(last_f[nonmatch_nrn_idx, :])\n",
    "plt.xlabel('Frame')\n",
    "plt.ylabel('F')\n",
    "plt.title(f'Example trace (nrn_idx: {nonmatch_nrn_idx})')\n",
    "plt.show()\n",
    "\n",
    "plt.figure(figsize=(10, 3))\n",
    "plt.imshow(zscore(last_f_iscell, axis=1), aspect='auto', cmap='Greys', vmin=0, vmax=1.96)\n",
    "plt.xlabel('Frame')\n",
    "plt.ylabel('ROI')\n",
    "plt.title('Raster plot')\n",
    "plt.show()\n"
   ]
  },
  {
   "cell_type": "markdown",
   "metadata": {},
   "source": [
    "## 4) Load the activity of the matched cells\n",
    "\n",
    "Now that we know how to look at data in one recording we will use the output from track2p to look at activity of the same cells across all datasets."
   ]
  },
  {
   "cell_type": "markdown",
   "metadata": {},
   "source": [
    "To do this we need to loop through all datasets and:\n",
    "- load the files described above\n",
    "- filter `stat.npy` and `fluo.npy` by the track2p iscell threshold (classical suite2p)\n",
    "- filter `stat.npy` and `fluo.npy` by the appropriate indices from the matrix of neurons matched on all days (additional filtering step after track2p)\n",
    "\n",
    "This will produce a nice data structure where the indices of cells are matched within the stat and fluo objects. Sorting the object in this way allows for very straightforward extraction of matched data (see cells below)"
   ]
  },
  {
   "cell_type": "code",
   "execution_count": null,
   "metadata": {},
   "outputs": [],
   "source": [
    "iscell_thr = track_ops.iscell_thr # use the same threshold as when running the algo (to be consistent with indexing)\n",
    "\n",
    "all_stat_t2p = []\n",
    "all_f_t2p = []\n",
    "all_ops = [] # ops dont change\n",
    "\n",
    "for (i, ds_path) in enumerate(track_ops.all_ds_path):\n",
    "    ops = np.load(os.path.join(ds_path, 'suite2p', plane, 'ops.npy'), allow_pickle=True).item()\n",
    "    stat = np.load(os.path.join(ds_path, 'suite2p', plane, 'stat.npy'), allow_pickle=True)\n",
    "    f = np.load(os.path.join(ds_path, 'suite2p', plane, 'F.npy'), allow_pickle=True)\n",
    "    iscell = np.load(os.path.join(ds_path, 'suite2p', plane, 'iscell.npy'), allow_pickle=True)\n",
    "    \n",
    "    \n",
    "    if track_ops.iscell_thr==None:\n",
    "        stat_iscell = stat[iscell[:, 0] == 1]\n",
    "        f_iscell = f[iscell[:, 0] == 1, :]\n",
    "\n",
    "    else:\n",
    "        stat_iscell = stat[iscell[:, 1] > iscell_thr]\n",
    "        f_iscell = f[iscell[:, 1] > iscell_thr, :]\n",
    "    \n",
    "    \n",
    "    stat_t2p = stat_iscell[t2p_match_mat_allday[:,i].astype(int)]\n",
    "    f_t2p = f_iscell[t2p_match_mat_allday[:,i].astype(int), :]\n",
    "\n",
    "    all_stat_t2p.append(stat_t2p)\n",
    "    all_f_t2p.append(f_t2p)\n",
    "    all_ops.append(ops)\n",
    "\n"
   ]
  },
  {
   "cell_type": "markdown",
   "metadata": {},
   "source": [
    "### 5) Visualise the ROIs and the activity of (a) matched cell(s)\n",
    "\n",
    "\n",
    "This example shows how to extract the information of a ROI from all_stat. We first index by the day to get stat_t2p from all_stat2p (this is the sorted stat object for that day). We can then get the roi information by indexing stat_t2p by the index of the cell match (because of resorting we use the same index across days)."
   ]
  },
  {
   "cell_type": "code",
   "execution_count": null,
   "metadata": {},
   "outputs": [],
   "source": [
    "wind = 24\n",
    "nrn_idx = 0\n",
    "\n",
    "for i in range(len(track_ops.all_ds_path)):\n",
    "    mean_img = all_ops[i]['meanImg']\n",
    "    stat_t2p = all_stat_t2p[i]\n",
    "    median_coord = stat_t2p[nrn_idx]['med']\n",
    "\n",
    "    plt.figure(figsize=(1.5,1.5))\n",
    "    plt.imshow(mean_img[int(median_coord[0])-wind:int(median_coord[0])+wind, int(median_coord[1])-wind:int(median_coord[1])+wind], cmap='gray') # plot a short window around the ROI centroid\n",
    "    plt.scatter(wind, wind)\n",
    "    plt.axis('off')\n",
    "    plt.show()"
   ]
  },
  {
   "cell_type": "code",
   "execution_count": null,
   "metadata": {},
   "outputs": [],
   "source": [
    "# first plot the trace of cell c for all days\n",
    "nrn_idx = 0 # the activity of the ROI visualised above on all days\n",
    "\n",
    "for i in range(len(track_ops.all_ds_path)):\n",
    "    plt.figure(figsize=(10, 1)) # make a wide figure\n",
    "    plt.plot(all_f_t2p[i][nrn_idx, :])\n",
    "    plt.xlabel('Frame')\n",
    "    plt.ylabel('F')\n",
    "    plt.show()\n"
   ]
  },
  {
   "cell_type": "markdown",
   "metadata": {},
   "source": [
    "Now to visualise the rasters its a simple exercise, since they are already sorted in a way that the rows represent the same cell across days we don't need to do anything other than simply looping through all_f_t2p and plotting each element as we did before."
   ]
  },
  {
   "cell_type": "code",
   "execution_count": null,
   "metadata": {},
   "outputs": [],
   "source": [
    "for i in range(len(track_ops.all_ds_path)):\n",
    "    plt.figure(figsize=(10, 3)) # make a wide figure\n",
    "    f_plot = zscore(all_f_t2p[i], axis=1)\n",
    "    plt.imshow(f_plot, aspect='auto', cmap='Greys', vmin=0, vmax=1.96)\n",
    "    plt.xlabel('Frame') "
   ]
  },
  {
   "cell_type": "markdown",
   "metadata": {},
   "source": [
    "### The End!\n",
    "\n",
    "Congrats! Hopefully this notebook was a clear and useful way of showing how to interact with the track2p outputs.\n",
    "\n",
    "From here on custom analysis pipelines can very easily be applied (for example looking at stability of assemblies, representational drift etc etc). \n",
    "\n",
    "The most straightforward way of doing this is to just run an already implemented pipeline on the data loaded as shown here. Alternatively the loaded match indices can be used to look at already-processed data as a way of post-hoc matching.\n",
    "\n",
    "Thanks and have fun with analysis :)"
   ]
  }
 ],
 "metadata": {
  "kernelspec": {
   "display_name": "track2p",
   "language": "python",
   "name": "python3"
  },
  "language_info": {
   "codemirror_mode": {
    "name": "ipython",
    "version": 3
   },
   "file_extension": ".py",
   "mimetype": "text/x-python",
   "name": "python",
   "nbconvert_exporter": "python",
   "pygments_lexer": "ipython3",
   "version": "3.9.18"
  }
 },
 "nbformat": 4,
 "nbformat_minor": 2
}
