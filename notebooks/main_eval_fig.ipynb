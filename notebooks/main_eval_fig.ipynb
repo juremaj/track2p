{
 "cells": [
  {
   "cell_type": "code",
   "execution_count": 1,
   "metadata": {},
   "outputs": [],
   "source": [
    "import numpy as np\n",
    "import os \n",
    "import matplotlib.pyplot as plt\n",
    "\n",
    "# import SimpleNamespace\n",
    "from types import SimpleNamespace\n",
    "\n",
    "from track2p.eval.io import load_alldays_f1_values, load_pairwise_f1_values, load_alldays_ct_values\n",
    "from track2p.eval.plot import plot_alldays_f1, plot_pairwise_f1"
   ]
  },
  {
   "cell_type": "markdown",
   "metadata": {},
   "source": [
    "## Define loading and plotting functions"
   ]
  },
  {
   "cell_type": "markdown",
   "metadata": {},
   "source": [
    "## Set paths and paramters"
   ]
  },
  {
   "cell_type": "code",
   "execution_count": 2,
   "metadata": {},
   "outputs": [],
   "source": [
    "# Chemins des fichiers NumPy\n",
    "base_path = '/Volumes/data_jm_share/data_proc/jm'  # Remplacez par le chemin correct\n",
    "conditions = ['chan0', 'chan1', 'rigid', 'cellreg']\n",
    "animals = ['jm038', 'jm039', 'jm046']\n",
    "symbols = {'jm038': 'o', 'jm039': 'o', 'jm046': 'o'}\n",
    "colors = {'jm038': (0.8, 0.8, 0.8), 'jm039': 'C0', 'jm046': (0.7, 0.7, 0.7)}\n"
   ]
  },
  {
   "cell_type": "markdown",
   "metadata": {},
   "source": [
    "## All days evaluation"
   ]
  },
  {
   "cell_type": "code",
   "execution_count": null,
   "metadata": {},
   "outputs": [],
   "source": [
    "ct, acc = load_alldays_ct_values(base_path, animals, conditions, ct_type='CT')\n",
    "\n",
    "ct_gt, acc_gt = load_alldays_ct_values(base_path, animals, conditions, ct_type='CT_GT')\n",
    "\n",
    "# in paper CT should be used in 'all day evaluation' - it takes into account the false positives as well\n",
    "# and CT_GT should be used in 'pairwise evaluation' - it can't take these into account (it only reports proportion of correctly reconstructed traces)"
   ]
  },
  {
   "cell_type": "code",
   "execution_count": 4,
   "metadata": {},
   "outputs": [],
   "source": [
    "# iterate over keys in ct\n",
    "f1_values = {animal: [] for animal in animals}\n",
    "\n",
    "for animal in ct.keys():\n",
    "    for (i, condition) in enumerate(conditions):\n",
    "        # get the last value of associated array\n",
    "        f1_val = ct[animal][i][-1]\n",
    "        f1_values[animal].append(f1_val)"
   ]
  },
  {
   "cell_type": "code",
   "execution_count": null,
   "metadata": {},
   "outputs": [],
   "source": [
    "f1_values"
   ]
  },
  {
   "cell_type": "code",
   "execution_count": null,
   "metadata": {},
   "outputs": [],
   "source": [
    "plot_alldays_f1(animals, conditions, f1_values, symbols, colors, xshift=0.2)\n"
   ]
  },
  {
   "cell_type": "markdown",
   "metadata": {},
   "source": [
    "## Pairwise evaluation"
   ]
  },
  {
   "cell_type": "code",
   "execution_count": null,
   "metadata": {},
   "outputs": [],
   "source": [
    "\n",
    "\n",
    "for (i, condition) in enumerate(conditions):\n",
    "    \n",
    "    # initialise dictionary\n",
    "    pairwise_ct_values = {}\n",
    "\n",
    "    for animal in animals:\n",
    "        pairwise_ct_values[animal] = ct_gt[animal][i]\n",
    "\n",
    "    plot_pairwise_f1(animals, condition, pairwise_ct_values, symbols, colors)\n"
   ]
  },
  {
   "cell_type": "code",
   "execution_count": null,
   "metadata": {},
   "outputs": [],
   "source": [
    "condition = 'pw_reg'\n",
    "symbols_pw = {'jm038': 's', 'jm039': 's', 'jm046': 's'} # to differentiate from all day registration\n",
    "\n",
    "pairwise_f1_values = load_pairwise_f1_values(base_path, animals, condition)\n",
    "plot_pairwise_f1(animals, condition, pairwise_f1_values, symbols_pw, colors)\n"
   ]
  },
  {
   "cell_type": "code",
   "execution_count": null,
   "metadata": {},
   "outputs": [],
   "source": []
  }
 ],
 "metadata": {
  "kernelspec": {
   "display_name": "track2p",
   "language": "python",
   "name": "python3"
  },
  "language_info": {
   "codemirror_mode": {
    "name": "ipython",
    "version": 3
   },
   "file_extension": ".py",
   "mimetype": "text/x-python",
   "name": "python",
   "nbconvert_exporter": "python",
   "pygments_lexer": "ipython3",
   "version": "3.9.19"
  }
 },
 "nbformat": 4,
 "nbformat_minor": 2
}
