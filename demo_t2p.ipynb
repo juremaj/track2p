{
 "cells": [
  {
   "cell_type": "code",
   "execution_count": null,
   "metadata": {},
   "outputs": [],
   "source": [
    "# automatically reload modules when they have changed\n",
    "%load_ext autoreload\n",
    "%autoreload 2"
   ]
  },
  {
   "cell_type": "code",
   "execution_count": null,
   "metadata": {},
   "outputs": [],
   "source": [
    "from track2p.ops.default import DefaultTrackOps\n",
    "\n",
    "from track2p.io.s2p_loaders import load_all_imgs, check_nplanes, load_all_ds_stat_iscell, load_all_ds_mean_img, load_all_ds_centroids\n",
    "from track2p.io.savers import save_track_ops, save_all_pl_match_mat\n",
    "\n",
    "from track2p.register.loop import run_reg_loop, reg_all_ds_all_roi\n",
    "from track2p.register.utils import get_all_ds_img_for_reg, get_all_ref_nonref_inters\n",
    "\n",
    "from track2p.plot.progress import plot_all_planes\n",
    "from track2p.plot.output import plot_reg_img_output, plot_thr_met_hist, plot_roi_reg_output, plot_roi_match_multiplane, plot_allroi_match_multiplane\n",
    "\n",
    "from track2p.match.loop import get_all_ds_assign, get_all_pl_match_mat \n"
   ]
  },
  {
   "cell_type": "markdown",
   "metadata": {},
   "source": [
    "### Start of algo"
   ]
  },
  {
   "cell_type": "code",
   "execution_count": null,
   "metadata": {},
   "outputs": [],
   "source": [
    "# 1) Define parameters (TODO: GUI or CLI)\n",
    "track_ops = DefaultTrackOps()\n",
    "\n",
    "track_ops.all_ds_path = [\n",
    "            # 'data/jm/jm032/2023-10-18_a/', # paths to outputs to where the suite2p folders are located (in order of registration)\n",
    "            'data/jm/jm032/2023-10-19_a/',\n",
    "            'data/jm/jm032/2023-10-20_a/',\n",
    "            'data/jm/jm032/2023-10-21_a/',\n",
    "            'data/jm/jm032/2023-10-22_a/',\n",
    "            'data/jm/jm032/2023-10-23_a/'\n",
    "            ]\n",
    "\n",
    "track_ops.save_path = 'data/jm/jm032/' # path where to save the outputs of algorithm (a 'track2p' folder will be created where figures for visualisation and matrices of matches would be saved)\n",
    "track_ops.reg_chan = 0 # channel to use for registration (0=functional, 1=anatomical) (use 0 if only recording gcamp!)\n",
    "\n",
    "track_ops.init_save_paths() # creates save paths if they don't exist"
   ]
  },
  {
   "cell_type": "code",
   "execution_count": null,
   "metadata": {},
   "outputs": [],
   "source": [
    "# 2) Load data\n",
    "check_nplanes(track_ops)\n",
    "all_ds_avg_ch1, all_ds_avg_ch2 = load_all_imgs(track_ops)\n",
    "\n",
    "# 3) Plot available planes for registration (TODO: the user needs to make sure their recordings can be matched, i. e. we can spot the same cells by eye in the different recordings, TODO: allow user to choose interactiverly which channel to use?)\n",
    "plot_all_planes(all_ds_avg_ch1, track_ops)\n",
    "if track_ops.nchannels==2:\n",
    "    plot_all_planes(all_ds_avg_ch2, track_ops)"
   ]
  },
  {
   "cell_type": "code",
   "execution_count": null,
   "metadata": {},
   "outputs": [],
   "source": [
    "# 4) do the actual registration based on chosen channel\n",
    "all_ds_ref_img, all_ds_mov_img = get_all_ds_img_for_reg(all_ds_avg_ch1, all_ds_avg_ch2, track_ops)\n",
    "all_ds_mov_img_reg, all_ds_reg_params = run_reg_loop(all_ds_ref_img, all_ds_mov_img, track_ops) # TODO: save basic parameters for each registration as feedback (e. g. ammoung of shift, rotation, etc.) for later plotting\n",
    "save_track_ops(track_ops)\n",
    "plot_reg_img_output(track_ops)"
   ]
  },
  {
   "cell_type": "markdown",
   "metadata": {},
   "source": [
    "### Applying transform to all ROIs and visualising"
   ]
  },
  {
   "cell_type": "code",
   "execution_count": null,
   "metadata": {},
   "outputs": [],
   "source": [
    "all_ds_all_roi_ref, all_ds_all_roi_mov, all_ds_all_roi_reg, all_ds_roi_counter = reg_all_ds_all_roi(all_ds_reg_params, track_ops)"
   ]
  },
  {
   "cell_type": "code",
   "execution_count": null,
   "metadata": {},
   "outputs": [],
   "source": [
    "# compute intersection (this is only needed for plotting below)\n",
    "all_ds_ref_reg_inters = get_all_ref_nonref_inters(all_ds_all_roi_ref, all_ds_all_roi_reg, track_ops)\n",
    "all_ds_ref_mov_inters = get_all_ref_nonref_inters(all_ds_all_roi_ref, all_ds_all_roi_mov, track_ops)\n",
    "\n",
    "track_ops.all_ds_ref_mov_inters = all_ds_ref_mov_inters\n",
    "track_ops.all_ds_ref_reg_inters = all_ds_ref_reg_inters\n",
    "\n",
    "# this line is very memory-intensive because of the ROIS (TODO: maybe instead of contours just plot RGB) (or somehow generate RGB image of contours (in the part before))\n",
    "if track_ops.show_roi_reg_output:\n",
    "    plot_roi_reg_output(track_ops)"
   ]
  },
  {
   "cell_type": "markdown",
   "metadata": {},
   "source": [
    "### Matching ROIs"
   ]
  },
  {
   "cell_type": "code",
   "execution_count": null,
   "metadata": {},
   "outputs": [],
   "source": [
    "all_ds_assign, all_ds_assign_thr, all_ds_thr_met, all_ds_thr = get_all_ds_assign(track_ops, all_ds_all_roi_ref, all_ds_all_roi_reg)"
   ]
  },
  {
   "cell_type": "code",
   "execution_count": null,
   "metadata": {},
   "outputs": [],
   "source": [
    "plot_thr_met_hist(all_ds_thr_met, all_ds_thr, track_ops)"
   ]
  },
  {
   "cell_type": "code",
   "execution_count": null,
   "metadata": {},
   "outputs": [],
   "source": [
    "all_pl_match_mat = get_all_pl_match_mat(all_ds_all_roi_ref, all_ds_assign_thr, track_ops)"
   ]
  },
  {
   "cell_type": "code",
   "execution_count": null,
   "metadata": {},
   "outputs": [],
   "source": [
    "save_track_ops(track_ops)\n",
    "save_all_pl_match_mat(all_pl_match_mat, track_ops)"
   ]
  },
  {
   "cell_type": "markdown",
   "metadata": {},
   "source": [
    "### Visualising output"
   ]
  },
  {
   "cell_type": "code",
   "execution_count": null,
   "metadata": {},
   "outputs": [],
   "source": [
    "# get centroids of all ROIs\n",
    "all_ds_stat_iscell = load_all_ds_stat_iscell(track_ops)\n",
    "all_ds_centroids = load_all_ds_centroids(all_ds_stat_iscell, track_ops)\n",
    "all_ds_mean_img = load_all_ds_mean_img(track_ops)"
   ]
  },
  {
   "cell_type": "code",
   "execution_count": null,
   "metadata": {},
   "outputs": [],
   "source": [
    "# TODO: match histogram to the first roi of first batch (not first roi of each batch)\n",
    "plot_roi_match_multiplane(all_ds_mean_img, all_ds_centroids, all_pl_match_mat, track_ops, win_size=track_ops.win_size)"
   ]
  },
  {
   "cell_type": "code",
   "execution_count": null,
   "metadata": {},
   "outputs": [],
   "source": [
    "plot_allroi_match_multiplane(all_ds_mean_img, all_pl_match_mat, track_ops)"
   ]
  },
  {
   "cell_type": "code",
   "execution_count": null,
   "metadata": {},
   "outputs": [],
   "source": []
  }
 ],
 "metadata": {
  "kernelspec": {
   "display_name": "track2p",
   "language": "python",
   "name": "python3"
  },
  "language_info": {
   "codemirror_mode": {
    "name": "ipython",
    "version": 3
   },
   "file_extension": ".py",
   "mimetype": "text/x-python",
   "name": "python",
   "nbconvert_exporter": "python",
   "pygments_lexer": "ipython3",
   "version": "3.9.18"
  }
 },
 "nbformat": 4,
 "nbformat_minor": 2
}
