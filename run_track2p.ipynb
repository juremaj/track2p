{
 "cells": [
  {
   "cell_type": "code",
   "execution_count": 10,
   "metadata": {},
   "outputs": [],
   "source": [
    "from track2p.t2p import run_t2p\n",
    "from track2p.ops.default import DefaultTrackOps"
   ]
  },
  {
   "cell_type": "code",
   "execution_count": 11,
   "metadata": {},
   "outputs": [],
   "source": [
    "# load default settings / parameters\n",
    "track_ops = DefaultTrackOps()\n"
   ]
  },
  {
   "cell_type": "code",
   "execution_count": 12,
   "metadata": {},
   "outputs": [],
   "source": [
    "# overwrite some defaults\n",
    "track_ops.all_ds_path = [                           # list of paths to datasets containing a `suite2p` folder\n",
    "            '/Users/jure/Documents/cossart_lab/data/jm/jm038/2023-04-30_a',\n",
    "            '/Users/jure/Documents/cossart_lab/data/jm/jm038/2023-05-01_a',\n",
    "            '/Users/jure/Documents/cossart_lab/data/jm/jm038/2023-05-02_a',\n",
    "            '/Users/jure/Documents/cossart_lab/data/jm/jm038/2023-05-03_a',\n",
    "            '/Users/jure/Documents/cossart_lab/data/jm/jm038/2023-05-04_a',\n",
    "            '/Users/jure/Documents/cossart_lab/data/jm/jm038/2023-05-05_a',\n",
    "            '/Users/jure/Documents/cossart_lab/data/jm/jm038/2023-05-06_a'\n",
    "        ]\n",
    "\n",
    "track_ops.save_path = '/Users/jure/Documents/cossart_lab/data/jm/jm038/' # path where to save the outputs of algorithm (a 'track2p' folder will be created where figures for visualisation and matrices of matches would be saved)\n",
    "\n",
    "track_ops.reg_chan = 1 # channel to use for registration (0=functional, 1=anatomical) (use 0 if only recording gcamp!)\n",
    "track_ops.iscell_thr = 0.5 # threshold for iscell (0.5 is a good value)\n"
   ]
  },
  {
   "cell_type": "code",
   "execution_count": 13,
   "metadata": {},
   "outputs": [
    {
     "name": "stdout",
     "output_type": "stream",
     "text": [
      "all_ds_path = ['/Users/jure/Documents/cossart_lab/data/jm/jm038/2023-04-30_a', '/Users/jure/Documents/cossart_lab/data/jm/jm038/2023-05-01_a', '/Users/jure/Documents/cossart_lab/data/jm/jm038/2023-05-02_a', '/Users/jure/Documents/cossart_lab/data/jm/jm038/2023-05-03_a', '/Users/jure/Documents/cossart_lab/data/jm/jm038/2023-05-04_a', '/Users/jure/Documents/cossart_lab/data/jm/jm038/2023-05-05_a', '/Users/jure/Documents/cossart_lab/data/jm/jm038/2023-05-06_a']\n",
      "save_path = /Users/jure/Documents/cossart_lab/data/jm/jm038/\n",
      "reg_chan = 1\n",
      "transform_type = affine\n",
      "iscell_thr = 0.5\n",
      "matching_method = iou\n",
      "iou_dist_thr = 16\n",
      "thr_remove_zeros = False\n",
      "thr_method = min\n",
      "show_roi_reg_output = False\n",
      "win_size = 48\n",
      "sat_perc = 99.9\n",
      "colors = None\n",
      "save_in_s2p_format = False\n"
     ]
    }
   ],
   "source": [
    "# print all the settings / parameters used for running the algorithm\n",
    "for attr, value in track_ops.__dict__.items():\n",
    "    print(attr, '=', value)\n",
    "\n"
   ]
  },
  {
   "cell_type": "code",
   "execution_count": 14,
   "metadata": {},
   "outputs": [
    {
     "name": "stdout",
     "output_type": "stream",
     "text": [
      "Created directory: /Users/jure/Documents/cossart_lab/data/jm/jm038/track2p/\n",
      "Created directory: /Users/jure/Documents/cossart_lab/data/jm/jm038/track2p/fig/\n",
      "Found 1 planes in /Users/jure/Documents/cossart_lab/data/jm/jm038/2023-04-30_a\n",
      "Found 1 planes in /Users/jure/Documents/cossart_lab/data/jm/jm038/2023-05-01_a\n",
      "Found 1 planes in /Users/jure/Documents/cossart_lab/data/jm/jm038/2023-05-02_a\n",
      "Found 1 planes in /Users/jure/Documents/cossart_lab/data/jm/jm038/2023-05-03_a\n",
      "Found 1 planes in /Users/jure/Documents/cossart_lab/data/jm/jm038/2023-05-04_a\n",
      "Found 1 planes in /Users/jure/Documents/cossart_lab/data/jm/jm038/2023-05-05_a\n",
      "Found 1 planes in /Users/jure/Documents/cossart_lab/data/jm/jm038/2023-05-06_a\n",
      "Found 1 planes in all datasets\n",
      "nchannels: 2 for plane 0 in dataset /Users/jure/Documents/cossart_lab/data/jm/jm038/2023-04-30_a\n",
      "nchannels: 2 for plane 0 in dataset /Users/jure/Documents/cossart_lab/data/jm/jm038/2023-05-01_a\n",
      "nchannels: 2 for plane 0 in dataset /Users/jure/Documents/cossart_lab/data/jm/jm038/2023-05-02_a\n",
      "nchannels: 2 for plane 0 in dataset /Users/jure/Documents/cossart_lab/data/jm/jm038/2023-05-03_a\n",
      "nchannels: 2 for plane 0 in dataset /Users/jure/Documents/cossart_lab/data/jm/jm038/2023-05-04_a\n",
      "nchannels: 2 for plane 0 in dataset /Users/jure/Documents/cossart_lab/data/jm/jm038/2023-05-05_a\n",
      "nchannels: 2 for plane 0 in dataset /Users/jure/Documents/cossart_lab/data/jm/jm038/2023-05-06_a\n",
      "Found 2 channels in all datasets\n",
      "WARNING: using anatomical channel for registration (this is not always available)\n",
      "...\n",
      "Transforming ROIs for registration 0/6\n",
      "Loading ROIs for plane0 in dataset jm038\n",
      "Chose 2190/3587 ROIs, based on s2p iscell threshold 0.5 (see track_ops.iscell_thr)\n",
      "Loading ROIs for plane0 in dataset jm038\n",
      "Chose 2247/3698 ROIs, based on s2p iscell threshold 0.5 (see track_ops.iscell_thr)\n"
     ]
    }
   ],
   "source": [
    "# run the algorithm\n",
    "run_t2p(track_ops)\n"
   ]
  },
  {
   "cell_type": "code",
   "execution_count": null,
   "metadata": {},
   "outputs": [],
   "source": []
  }
 ],
 "metadata": {
  "kernelspec": {
   "display_name": "track2p",
   "language": "python",
   "name": "python3"
  },
  "language_info": {
   "codemirror_mode": {
    "name": "ipython",
    "version": 3
   },
   "file_extension": ".py",
   "mimetype": "text/x-python",
   "name": "python",
   "nbconvert_exporter": "python",
   "pygments_lexer": "ipython3",
   "version": "3.9.19"
  }
 },
 "nbformat": 4,
 "nbformat_minor": 2
}
