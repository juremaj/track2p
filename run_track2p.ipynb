{
 "cells": [
  {
   "cell_type": "markdown",
   "metadata": {},
   "source": [
    "# Run track2p programatically \n",
    "\n",
    "Track2p can also be easily launched through a notebook or a script as shown below"
   ]
  },
  {
   "cell_type": "code",
   "execution_count": null,
   "metadata": {},
   "outputs": [],
   "source": [
    "from track2p.t2p import run_t2p                     # main function that launches track2p\n",
    "from track2p.ops.default import DefaultTrackOps     # default track2p options\n",
    "\n",
    "# load default settings / parameters\n",
    "track_ops = DefaultTrackOps()"
   ]
  },
  {
   "cell_type": "markdown",
   "metadata": {},
   "source": [
    "After importing the algorithm function and initialising default parameters, we can set the paths and modify parameters as shown below (Note: the parameters follow the same naming convention as in the 'Run algorithm' window of the GUI):"
   ]
  },
  {
   "cell_type": "code",
   "execution_count": null,
   "metadata": {},
   "outputs": [],
   "source": [
    "# overwrite some defaults\n",
    "track_ops.all_ds_path = [           # list of paths to datasets containing a `suite2p` folder\n",
    "            '/Users/jure/Documents/cossart_lab/data/jm/jm038/2023-04-30_a',\n",
    "            '/Users/jure/Documents/cossart_lab/data/jm/jm038/2023-05-01_a',\n",
    "            '/Users/jure/Documents/cossart_lab/data/jm/jm038/2023-05-02_a',\n",
    "            '/Users/jure/Documents/cossart_lab/data/jm/jm038/2023-05-03_a',\n",
    "            '/Users/jure/Documents/cossart_lab/data/jm/jm038/2023-05-04_a',\n",
    "            '/Users/jure/Documents/cossart_lab/data/jm/jm038/2023-05-05_a',\n",
    "            '/Users/jure/Documents/cossart_lab/data/jm/jm038/2023-05-06_a'\n",
    "        ]\n",
    "\n",
    "track_ops.save_path = '/Users/jure/Documents/cossart_lab/data/jm/jm038/'    # path where to save the outputs of algorithm \n",
    "                                                                            # (a 'track2p' folder will be created where figures for\n",
    "                                                                            # visualisation and matrices of matches would be saved)\n",
    "\n",
    "track_ops.reg_chan = 1              # channel to use for registration (0=functional, 1=anatomical) (use 0 if only recording gcamp!)\n",
    "track_ops.iscell_thr = 0.5          # threshold for iscell (0.5 is a good value)\n"
   ]
  },
  {
   "cell_type": "markdown",
   "metadata": {},
   "source": [
    "Before running algorithm we can also check the settings track2p will use, to be sure everything is correct:"
   ]
  },
  {
   "cell_type": "code",
   "execution_count": null,
   "metadata": {},
   "outputs": [],
   "source": [
    "# print all the settings / parameters used for running the algorithm\n",
    "for attr, value in track_ops.__dict__.items():\n",
    "    print(attr, '=', value)"
   ]
  },
  {
   "cell_type": "markdown",
   "metadata": {},
   "source": [
    "We can then simply launch the algorithm by passing the `track_ops` object to the `run_t2p` function."
   ]
  },
  {
   "cell_type": "code",
   "execution_count": null,
   "metadata": {},
   "outputs": [],
   "source": [
    "# run the algorithm\n",
    "run_t2p(track_ops)\n"
   ]
  }
 ],
 "metadata": {
  "kernelspec": {
   "display_name": "track2p",
   "language": "python",
   "name": "python3"
  },
  "language_info": {
   "codemirror_mode": {
    "name": "ipython",
    "version": 3
   },
   "file_extension": ".py",
   "mimetype": "text/x-python",
   "name": "python",
   "nbconvert_exporter": "python",
   "pygments_lexer": "ipython3",
   "version": "3.9.19"
  }
 },
 "nbformat": 4,
 "nbformat_minor": 2
}
